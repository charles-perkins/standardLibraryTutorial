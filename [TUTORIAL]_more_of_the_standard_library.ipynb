{
  "cells": [
    {
      "cell_type": "markdown",
      "metadata": {
        "id": "view-in-github",
        "colab_type": "text"
      },
      "source": [
        "<a href=\"https://colab.research.google.com/github/charles-perkins/standardLibraryTutorial/blob/main/%5BTUTORIAL%5D_more_of_the_standard_library.ipynb\" target=\"_parent\"><img src=\"https://colab.research.google.com/assets/colab-badge.svg\" alt=\"Open In Colab\"/></a>"
      ]
    },
    {
      "cell_type": "markdown",
      "id": "63bf3bb4",
      "metadata": {
        "id": "63bf3bb4"
      },
      "source": [
        "# Introducing more of the standard library - PyData 2022"
      ]
    },
    {
      "cell_type": "markdown",
      "id": "671310ff",
      "metadata": {
        "id": "671310ff"
      },
      "source": [
        "**Simon Ward-Jones**\n",
        "\n",
        "*Audience level: Novice*"
      ]
    },
    {
      "cell_type": "markdown",
      "id": "ce799684",
      "metadata": {
        "id": "ce799684"
      },
      "source": [
        "In this notebook we walk through examples to get familiar with the key functionality of\n",
        "  - `pathlib`\n",
        "  - `datetime`\n",
        "  - `collections`\n",
        "  - `itertools`\n",
        "  - `functools`\n",
        "\n",
        "**Notes**\n",
        "- The modules get more advanced as we go and require knowledge of more advanced python language features.\n",
        "- We won't have time to go over everything in each modulde and with that in mind I have provided longer notebooks covering each individually with more examples.\n",
        "- There are also optional exercises for each section.\n",
        "- This notebook is initially written in python version 3.10\n"
      ]
    },
    {
      "cell_type": "markdown",
      "id": "c2220ded",
      "metadata": {
        "id": "c2220ded"
      },
      "source": [
        "## pathlib"
      ]
    },
    {
      "cell_type": "markdown",
      "id": "d42049ce",
      "metadata": {
        "id": "d42049ce"
      },
      "source": [
        "This module offers classes representing filesystem paths (with semantics appropriate for different operating systems.)\n",
        "\n",
        "No need to install, as of python 3.4 it's standard lib.\n",
        "\n",
        "For more information see documentation: https://docs.python.org/3/library/pathlib.html"
      ]
    },
    {
      "cell_type": "markdown",
      "id": "557da9e3",
      "metadata": {
        "id": "557da9e3"
      },
      "source": [
        "### Introducing the Path class"
      ]
    },
    {
      "cell_type": "code",
      "execution_count": null,
      "id": "2c3c60ea",
      "metadata": {
        "id": "2c3c60ea"
      },
      "outputs": [],
      "source": [
        "from pathlib import Path"
      ]
    },
    {
      "cell_type": "code",
      "execution_count": null,
      "id": "e62d3fdc",
      "metadata": {
        "id": "e62d3fdc"
      },
      "outputs": [],
      "source": [
        "#start the path\n",
        "cwd_path = Path('.')"
      ]
    },
    {
      "cell_type": "code",
      "execution_count": null,
      "id": "2937bf0c",
      "metadata": {
        "id": "2937bf0c",
        "outputId": "50ad7f5f-95dc-4769-a581-46ab44c35ad7",
        "colab": {
          "base_uri": "https://localhost:8080/"
        }
      },
      "outputs": [
        {
          "output_type": "execute_result",
          "data": {
            "text/plain": [
              "PosixPath('.')"
            ]
          },
          "metadata": {},
          "execution_count": 3
        }
      ],
      "source": [
        "cwd_path"
      ]
    },
    {
      "cell_type": "code",
      "execution_count": null,
      "id": "a45b5571",
      "metadata": {
        "id": "a45b5571",
        "outputId": "9edc68f7-d012-4af7-dc86-686184770370",
        "colab": {
          "base_uri": "https://localhost:8080/"
        }
      },
      "outputs": [
        {
          "output_type": "execute_result",
          "data": {
            "text/plain": [
              "PosixPath('/content')"
            ]
          },
          "metadata": {},
          "execution_count": 4
        }
      ],
      "source": [
        "cwd_path.absolute()"
      ]
    },
    {
      "cell_type": "code",
      "execution_count": null,
      "id": "6794d8c9",
      "metadata": {
        "id": "6794d8c9",
        "outputId": "10d15e0e-ac56-4214-8559-d71a00a56c0b",
        "colab": {
          "base_uri": "https://localhost:8080/"
        }
      },
      "outputs": [
        {
          "output_type": "execute_result",
          "data": {
            "text/plain": [
              "PosixPath('/content')"
            ]
          },
          "metadata": {},
          "execution_count": 5
        }
      ],
      "source": [
        "Path.cwd()"
      ]
    },
    {
      "cell_type": "markdown",
      "id": "88aa06eb",
      "metadata": {
        "id": "88aa06eb"
      },
      "source": [
        "### Building paths"
      ]
    },
    {
      "cell_type": "code",
      "execution_count": null,
      "id": "7ce9213f",
      "metadata": {
        "id": "7ce9213f",
        "outputId": "ed94a20b-adb2-4229-c6b9-8638d1e1fdf0",
        "colab": {
          "base_uri": "https://localhost:8080/"
        }
      },
      "outputs": [
        {
          "output_type": "execute_result",
          "data": {
            "text/plain": [
              "<bound method PurePath.joinpath of PosixPath('data/student-data')>"
            ]
          },
          "metadata": {},
          "execution_count": 13
        }
      ],
      "source": [
        "#name of object = desired folder name structure\n",
        "\n",
        "student_folder = cwd_path.joinpath('data').joinpath('student-data').joinpath\n",
        "student_folder"
      ]
    },
    {
      "cell_type": "code",
      "source": [
        "student_folder"
      ],
      "metadata": {
        "colab": {
          "base_uri": "https://localhost:8080/"
        },
        "id": "Dld98uM0Z4hL",
        "outputId": "8a685bee-bd0f-43a3-f052-a1ea3c197c0b"
      },
      "id": "Dld98uM0Z4hL",
      "execution_count": null,
      "outputs": [
        {
          "output_type": "execute_result",
          "data": {
            "text/plain": [
              "<bound method PurePath.joinpath of PosixPath('data/student-data')>"
            ]
          },
          "metadata": {},
          "execution_count": 11
        }
      ]
    },
    {
      "cell_type": "code",
      "execution_count": null,
      "id": "9e401a10",
      "metadata": {
        "id": "9e401a10",
        "outputId": "f1c8ee35-1d8d-44c8-fe34-179b3a080a13",
        "colab": {
          "base_uri": "https://localhost:8080/"
        }
      },
      "outputs": [
        {
          "output_type": "execute_result",
          "data": {
            "text/plain": [
              "PosixPath('data/student-data')"
            ]
          },
          "metadata": {},
          "execution_count": 12
        }
      ],
      "source": [
        "# Same again using / operator\n",
        "student_folder = cwd_path / 'data' / 'student-data'\n",
        "student_folder"
      ]
    },
    {
      "cell_type": "code",
      "execution_count": null,
      "id": "7c21fe32",
      "metadata": {
        "id": "7c21fe32",
        "outputId": "e784d9d9-41aa-4092-f64d-2c8b838498d6",
        "colab": {
          "base_uri": "https://localhost:8080/"
        }
      },
      "outputs": [
        {
          "output_type": "execute_result",
          "data": {
            "text/plain": [
              "PosixPath('data/student-data')"
            ]
          },
          "metadata": {},
          "execution_count": 15
        }
      ],
      "source": [
        "# Same again using string\n",
        "student_folder = Path('./data/student-data')\n",
        "student_folder"
      ]
    },
    {
      "cell_type": "code",
      "execution_count": null,
      "id": "bd87fc9d",
      "metadata": {
        "id": "bd87fc9d",
        "colab": {
          "base_uri": "https://localhost:8080/"
        },
        "outputId": "9ddd1e3b-c9fc-4eaf-d707-15c4a0ab82fb"
      },
      "outputs": [
        {
          "output_type": "execute_result",
          "data": {
            "text/plain": [
              "PosixPath('data/student-data/data.json')"
            ]
          },
          "metadata": {},
          "execution_count": 69
        }
      ],
      "source": [
        "student_data_path = student_folder / 'data.json'\n",
        "student_data_path"
      ]
    },
    {
      "cell_type": "markdown",
      "id": "a27d688d",
      "metadata": {
        "id": "a27d688d"
      },
      "source": [
        "### File parts and parents"
      ]
    },
    {
      "cell_type": "code",
      "execution_count": null,
      "id": "16073c98",
      "metadata": {
        "id": "16073c98",
        "outputId": "7871bbfc-f451-40dd-c894-87eba363b67b",
        "colab": {
          "base_uri": "https://localhost:8080/"
        }
      },
      "outputs": [
        {
          "output_type": "execute_result",
          "data": {
            "text/plain": [
              "PosixPath('data/student-data/data.json')"
            ]
          },
          "metadata": {},
          "execution_count": 68
        }
      ],
      "source": [
        "student_data_path"
      ]
    },
    {
      "cell_type": "code",
      "execution_count": null,
      "id": "6df256d6",
      "metadata": {
        "id": "6df256d6",
        "outputId": "c834afe9-e4f8-43ea-cc83-445584e76a2d",
        "colab": {
          "base_uri": "https://localhost:8080/"
        }
      },
      "outputs": [
        {
          "output_type": "execute_result",
          "data": {
            "text/plain": [
              "('data.json', 'data', '.json')"
            ]
          },
          "metadata": {},
          "execution_count": 19
        }
      ],
      "source": [
        "student_data_path.name, student_data_path.stem, student_data_path.suffix"
      ]
    },
    {
      "cell_type": "code",
      "execution_count": null,
      "id": "6fa82cd8",
      "metadata": {
        "id": "6fa82cd8",
        "colab": {
          "base_uri": "https://localhost:8080/"
        },
        "outputId": "8e9a76c2-c2fe-4c60-8cbd-3adfd32101ba"
      },
      "outputs": [
        {
          "output_type": "execute_result",
          "data": {
            "text/plain": [
              "('data', 'student-data', 'data.json')"
            ]
          },
          "metadata": {},
          "execution_count": 21
        }
      ],
      "source": [
        "student_data_path.parts"
      ]
    },
    {
      "cell_type": "code",
      "execution_count": null,
      "id": "fa0d4932",
      "metadata": {
        "id": "fa0d4932",
        "colab": {
          "base_uri": "https://localhost:8080/"
        },
        "outputId": "fca85232-dd5a-446a-8192-8ee5f6c76a12"
      },
      "outputs": [
        {
          "output_type": "stream",
          "name": "stdout",
          "text": [
            "data/student-data/data.json\n"
          ]
        }
      ],
      "source": [
        "print(student_data_path)"
      ]
    },
    {
      "cell_type": "code",
      "execution_count": null,
      "id": "5529f3ca",
      "metadata": {
        "id": "5529f3ca",
        "colab": {
          "base_uri": "https://localhost:8080/"
        },
        "outputId": "7ea2cd34-5b48-47a5-f0a0-09f33960bbd2"
      },
      "outputs": [
        {
          "output_type": "stream",
          "name": "stdout",
          "text": [
            "/content/data/student-data/data.json\n"
          ]
        }
      ],
      "source": [
        "print(student_data_path.absolute())"
      ]
    },
    {
      "cell_type": "code",
      "execution_count": null,
      "id": "6edc5729",
      "metadata": {
        "id": "6edc5729",
        "colab": {
          "base_uri": "https://localhost:8080/"
        },
        "outputId": "21563e09-10f6-4d7c-ded2-a7d50c0780b0"
      },
      "outputs": [
        {
          "output_type": "execute_result",
          "data": {
            "text/plain": [
              "PosixPath('data/student-data')"
            ]
          },
          "metadata": {},
          "execution_count": 24
        }
      ],
      "source": [
        "student_data_path.parent"
      ]
    },
    {
      "cell_type": "code",
      "execution_count": null,
      "id": "a72fcb3a",
      "metadata": {
        "id": "a72fcb3a",
        "colab": {
          "base_uri": "https://localhost:8080/"
        },
        "outputId": "464c20f9-40f9-4f87-f468-3a9bc54ca2b2"
      },
      "outputs": [
        {
          "output_type": "execute_result",
          "data": {
            "text/plain": [
              "PosixPath('data')"
            ]
          },
          "metadata": {},
          "execution_count": 27
        }
      ],
      "source": [
        "# As the parent returns a Path instance\n",
        "# we can call parent on that too\n",
        "\n",
        "student_data_path.parent.parent"
      ]
    },
    {
      "cell_type": "markdown",
      "id": "e981e77d",
      "metadata": {
        "id": "e981e77d"
      },
      "source": [
        "### Changing the name,  stem or file extension"
      ]
    },
    {
      "cell_type": "code",
      "execution_count": null,
      "id": "db29f2fc",
      "metadata": {
        "id": "db29f2fc",
        "colab": {
          "base_uri": "https://localhost:8080/"
        },
        "outputId": "5acc5650-fd5d-4801-ded8-67176838311c"
      },
      "outputs": [
        {
          "output_type": "execute_result",
          "data": {
            "text/plain": [
              "PosixPath('data/student-data/data.json')"
            ]
          },
          "metadata": {},
          "execution_count": 28
        }
      ],
      "source": [
        "student_data_path"
      ]
    },
    {
      "cell_type": "code",
      "execution_count": null,
      "id": "c493f353",
      "metadata": {
        "id": "c493f353",
        "colab": {
          "base_uri": "https://localhost:8080/"
        },
        "outputId": "ea6c7835-e5b6-4586-fa1d-74ddb6870433"
      },
      "outputs": [
        {
          "output_type": "execute_result",
          "data": {
            "text/plain": [
              "PosixPath('data/student-data/data.py')"
            ]
          },
          "metadata": {},
          "execution_count": 29
        }
      ],
      "source": [
        "# replaces .json with .py\n",
        "student_data_path.with_suffix('.py')"
      ]
    },
    {
      "cell_type": "code",
      "execution_count": null,
      "id": "9f628456",
      "metadata": {
        "id": "9f628456",
        "colab": {
          "base_uri": "https://localhost:8080/"
        },
        "outputId": "4df59462-6ffd-419a-a2c9-75543d91e5bd"
      },
      "outputs": [
        {
          "output_type": "execute_result",
          "data": {
            "text/plain": [
              "PosixPath('data/student-data/student_data.txt')"
            ]
          },
          "metadata": {},
          "execution_count": 32
        }
      ],
      "source": [
        "# replaces data.jpeg with student_data.txt\n",
        "student_data_path.with_name('student_data.txt')"
      ]
    },
    {
      "cell_type": "code",
      "execution_count": null,
      "id": "8b8caab4-cae5-4ae9-8b72-cbe5f022ebdb",
      "metadata": {
        "id": "8b8caab4-cae5-4ae9-8b72-cbe5f022ebdb",
        "colab": {
          "base_uri": "https://localhost:8080/"
        },
        "outputId": "181ef0f2-8bf6-49f6-b2ab-f2b7285cf3a8"
      },
      "outputs": [
        {
          "output_type": "execute_result",
          "data": {
            "text/plain": [
              "PosixPath('data/student-data/numbers.xslx')"
            ]
          },
          "metadata": {},
          "execution_count": 33
        }
      ],
      "source": [
        "# Similar to .parent, as the above methods return a Path instance\n",
        "# we can chain calls:\n",
        "\n",
        "\n",
        "student_data_path.with_name('numbers').with_suffix('.xslx')"
      ]
    },
    {
      "cell_type": "code",
      "execution_count": null,
      "id": "5f298a6c-7b22-4ab1-b6ab-c73e535bd2a3",
      "metadata": {
        "id": "5f298a6c-7b22-4ab1-b6ab-c73e535bd2a3"
      },
      "outputs": [],
      "source": [
        "# Note we haven't actually changed the file here. We have just changed the name of our path object\n",
        "# We will see how to use Path instances to interact with the file system now."
      ]
    },
    {
      "cell_type": "markdown",
      "id": "8d1509d0-270a-471b-974c-b2697170bde5",
      "metadata": {
        "id": "8d1509d0-270a-471b-974c-b2697170bde5"
      },
      "source": [
        "### Interacting with the files, reading, writing and renaming"
      ]
    },
    {
      "cell_type": "code",
      "execution_count": null,
      "id": "61d0b22a-8007-4757-bd1c-c1ff49a89090",
      "metadata": {
        "id": "61d0b22a-8007-4757-bd1c-c1ff49a89090",
        "colab": {
          "base_uri": "https://localhost:8080/"
        },
        "outputId": "cb0fc51d-b925-415a-9319-d5de8c0d9a90"
      },
      "outputs": [
        {
          "output_type": "execute_result",
          "data": {
            "text/plain": [
              "False"
            ]
          },
          "metadata": {},
          "execution_count": 36
        }
      ],
      "source": [
        "student_data_path.exists()"
      ]
    },
    {
      "cell_type": "code",
      "execution_count": null,
      "id": "d1ebb870-2373-4a88-806a-13abbdfe19b8",
      "metadata": {
        "id": "d1ebb870-2373-4a88-806a-13abbdfe19b8",
        "colab": {
          "base_uri": "https://localhost:8080/"
        },
        "outputId": "b845738d-d4c4-4ffd-88a1-8e89566e4f70"
      },
      "outputs": [
        {
          "output_type": "execute_result",
          "data": {
            "text/plain": [
              "(False, False)"
            ]
          },
          "metadata": {},
          "execution_count": 37
        }
      ],
      "source": [
        "# is_file checks if the path exists and is a file\n",
        "# is_dir checks if the path exists and is a directory\n",
        "student_data_path.is_file(), student_data_path.is_dir()"
      ]
    },
    {
      "cell_type": "code",
      "execution_count": null,
      "id": "bc1f517d-3796-42d9-b26b-8a6d35d7e263",
      "metadata": {
        "id": "bc1f517d-3796-42d9-b26b-8a6d35d7e263",
        "colab": {
          "base_uri": "https://localhost:8080/"
        },
        "outputId": "b225955e-7f44-448a-e182-b68f48e7d965"
      },
      "outputs": [
        {
          "output_type": "execute_result",
          "data": {
            "text/plain": [
              "PosixPath('data/student-data')"
            ]
          },
          "metadata": {},
          "execution_count": 39
        }
      ],
      "source": [
        "# Note this path represents a folder called data and a sub folder called student-data\n",
        "\n",
        "student_data_folder = student_data_path.parent\n",
        "student_data_folder"
      ]
    },
    {
      "cell_type": "code",
      "execution_count": null,
      "id": "7c16a533-5a30-4cdf-95eb-9613dded5da7",
      "metadata": {
        "id": "7c16a533-5a30-4cdf-95eb-9613dded5da7",
        "colab": {
          "base_uri": "https://localhost:8080/"
        },
        "outputId": "99a1248e-eab1-42e8-be75-4b1241590664"
      },
      "outputs": [
        {
          "output_type": "execute_result",
          "data": {
            "text/plain": [
              "False"
            ]
          },
          "metadata": {},
          "execution_count": 40
        }
      ],
      "source": [
        "student_data_folder.exists()"
      ]
    },
    {
      "cell_type": "code",
      "execution_count": null,
      "id": "922bb681-3180-46e5-939e-369828d20a65",
      "metadata": {
        "id": "922bb681-3180-46e5-939e-369828d20a65"
      },
      "outputs": [],
      "source": [
        "# When we run this cell it will error\n",
        "\n",
        "# student_data_folder.mkdir()"
      ]
    },
    {
      "cell_type": "code",
      "execution_count": null,
      "id": "b37bb810-cdea-4148-b415-23d673c1e180",
      "metadata": {
        "id": "b37bb810-cdea-4148-b415-23d673c1e180"
      },
      "outputs": [],
      "source": [
        "# Adding parents = True means the mkdir call will make parents if they are not there\n",
        "# Adding exists_ok = True means the mkdir call will not fail if the folder already exists\n",
        "student_data_folder.mkdir(parents=True, exist_ok=True)"
      ]
    },
    {
      "cell_type": "code",
      "execution_count": null,
      "id": "d7f437e2-e691-4740-9b4c-5388821c2572",
      "metadata": {
        "id": "d7f437e2-e691-4740-9b4c-5388821c2572",
        "colab": {
          "base_uri": "https://localhost:8080/"
        },
        "outputId": "b46df22d-04d1-4b46-c2bb-a0b5fd58c7fc"
      },
      "outputs": [
        {
          "output_type": "execute_result",
          "data": {
            "text/plain": [
              "True"
            ]
          },
          "metadata": {},
          "execution_count": 45
        }
      ],
      "source": [
        "student_data_folder.exists()"
      ]
    },
    {
      "cell_type": "code",
      "execution_count": null,
      "id": "763e72ae-5b83-4527-972f-61be08ebefe8",
      "metadata": {
        "id": "763e72ae-5b83-4527-972f-61be08ebefe8",
        "colab": {
          "base_uri": "https://localhost:8080/"
        },
        "outputId": "860c1db2-ddac-496e-f0b8-b8d714727fbd"
      },
      "outputs": [
        {
          "output_type": "execute_result",
          "data": {
            "text/plain": [
              "False"
            ]
          },
          "metadata": {},
          "execution_count": 46
        }
      ],
      "source": [
        "student_data_path.exists()"
      ]
    },
    {
      "cell_type": "code",
      "execution_count": null,
      "id": "3e2bba5b-c95f-402f-8e37-8b69d2bd0771",
      "metadata": {
        "id": "3e2bba5b-c95f-402f-8e37-8b69d2bd0771"
      },
      "outputs": [],
      "source": [
        "student_data = [\n",
        "    {\n",
        "        \"name\": \"John Smith\",\n",
        "        \"age\": 10,\n",
        "        \"on_vacation\": False,\n",
        "        \"test_scores\": [66, 85, 39, 61, 16, 92, 33, 3, 87, 71],\n",
        "    },\n",
        "    {\n",
        "        \"name\": \"Jane Doe\",\n",
        "        \"age\": 10,\n",
        "        \"on_vacation\": False,\n",
        "        \"test_scores\": [4, 73, 75, 4, 50, 83, 8, 23, 42, 23],\n",
        "    },\n",
        "    {\n",
        "        \"name\": \"Isaac Newton\",\n",
        "        \"age\": 30,\n",
        "        \"on_vacation\": True,\n",
        "        \"test_scores\": [93, 96, 94, 92, 95, 90, 100, 98, 90, 94],\n",
        "    },\n",
        "]"
      ]
    },
    {
      "cell_type": "code",
      "execution_count": null,
      "id": "a1b098bf-6cb8-4a9e-ba27-2b12786ac9d9",
      "metadata": {
        "id": "a1b098bf-6cb8-4a9e-ba27-2b12786ac9d9",
        "colab": {
          "base_uri": "https://localhost:8080/"
        },
        "outputId": "60dce29b-c429-4fa2-ac7f-cdb3a08543f0"
      },
      "outputs": [
        {
          "output_type": "execute_result",
          "data": {
            "text/plain": [
              "856"
            ]
          },
          "metadata": {},
          "execution_count": 48
        }
      ],
      "source": [
        "import json # to convert dict to json string\n",
        "\n",
        "student_data_path.write_text(json.dumps(student_data, indent=4))"
      ]
    },
    {
      "cell_type": "code",
      "execution_count": null,
      "id": "6cb2d6ea-ccb7-46e3-a968-2560ee327c87",
      "metadata": {
        "id": "6cb2d6ea-ccb7-46e3-a968-2560ee327c87",
        "colab": {
          "base_uri": "https://localhost:8080/"
        },
        "outputId": "a4e2863a-9c50-4f2f-e719-f99583dc2893"
      },
      "outputs": [
        {
          "output_type": "stream",
          "name": "stdout",
          "text": [
            "[\n",
            "    {\n",
            "        \"name\": \"John Smith\",\n",
            "        \"age\": 10,\n",
            "        \"on_vacation\": false,\n",
            "        \"test_scores\": [\n",
            "            66,\n",
            "            85,\n",
            "            39,\n",
            "            61,\n",
            "            16,\n",
            "            92,\n",
            "            33,\n",
            "            3,\n",
            "            87,\n",
            "            71\n",
            "        ]\n",
            "    },\n",
            "    {\n",
            "        \"name\": \"Jane Doe\",\n",
            "        \"age\": 10,\n",
            "        \"on_vacation\": false,\n",
            "        \"test_scores\": [\n",
            "            4,\n",
            "            73,\n",
            "            75,\n",
            "            4,\n",
            "            50,\n",
            "            83,\n",
            "            8,\n",
            "            23,\n",
            "            42,\n",
            "            23\n",
            "        ]\n",
            "    },\n",
            "    {\n",
            "        \"name\": \"Isaac Newton\",\n",
            "        \"age\": 30,\n",
            "        \"on_vacation\": true,\n",
            "        \"test_scores\": [\n",
            "            93,\n",
            "            96,\n",
            "            94,\n",
            "            92,\n",
            "            95,\n",
            "            90,\n",
            "            100,\n",
            "            98,\n",
            "            90,\n",
            "            94\n",
            "        ]\n",
            "    }\n",
            "]\n"
          ]
        }
      ],
      "source": [
        "print(student_data_path.read_text())"
      ]
    },
    {
      "cell_type": "markdown",
      "id": "85f7e36a-598a-4e98-978d-3385d7e00f28",
      "metadata": {
        "id": "85f7e36a-598a-4e98-978d-3385d7e00f28"
      },
      "source": [
        "### Renaming a file"
      ]
    },
    {
      "cell_type": "code",
      "execution_count": null,
      "id": "8e05610f-ab1e-4257-b9b1-537e66f05b16",
      "metadata": {
        "id": "8e05610f-ab1e-4257-b9b1-537e66f05b16"
      },
      "outputs": [],
      "source": [
        "moved_file_location = student_data_path.parent.parent / 'new_location.txt'"
      ]
    },
    {
      "cell_type": "code",
      "execution_count": null,
      "id": "3ed12189-b5c2-41a7-b6ec-191f079128d9",
      "metadata": {
        "id": "3ed12189-b5c2-41a7-b6ec-191f079128d9",
        "colab": {
          "base_uri": "https://localhost:8080/"
        },
        "outputId": "0cf0f46a-0d46-4c96-9412-127ce58e2d21"
      },
      "outputs": [
        {
          "output_type": "execute_result",
          "data": {
            "text/plain": [
              "PosixPath('data/new_location.txt')"
            ]
          },
          "metadata": {},
          "execution_count": 54
        }
      ],
      "source": [
        "# the new location where we want to move our file\n",
        "moved_file_location"
      ]
    },
    {
      "cell_type": "code",
      "execution_count": null,
      "id": "6bcfe251-7e19-42df-bc95-ebc53ea1d3e0",
      "metadata": {
        "id": "6bcfe251-7e19-42df-bc95-ebc53ea1d3e0"
      },
      "outputs": [],
      "source": [
        "if not moved_file_location.exists():\n",
        "    student_data_path.rename(moved_file_location)\n",
        "\n",
        "# NO WARNING if overwriting so be careful!"
      ]
    },
    {
      "cell_type": "code",
      "execution_count": null,
      "id": "e78d3d0b-c520-4ded-bf5f-58bef538248b",
      "metadata": {
        "id": "e78d3d0b-c520-4ded-bf5f-58bef538248b",
        "colab": {
          "base_uri": "https://localhost:8080/"
        },
        "outputId": "e49c28b9-a7bd-4a59-b5e7-03b6d018e2e2"
      },
      "outputs": [
        {
          "output_type": "execute_result",
          "data": {
            "text/plain": [
              "True"
            ]
          },
          "metadata": {},
          "execution_count": 56
        }
      ],
      "source": [
        "moved_file_location.exists()"
      ]
    },
    {
      "cell_type": "markdown",
      "id": "ec197b82-b29b-4359-bd41-c600e9247ca8",
      "metadata": {
        "id": "ec197b82-b29b-4359-bd41-c600e9247ca8"
      },
      "source": [
        "### Deleting dirs and files"
      ]
    },
    {
      "cell_type": "code",
      "execution_count": null,
      "id": "f9d0c0ce-97b5-44cd-8a72-7ca5bd820c32",
      "metadata": {
        "id": "f9d0c0ce-97b5-44cd-8a72-7ca5bd820c32"
      },
      "outputs": [],
      "source": [
        "# unlink - deletes a file. The missing_ok ensures no error if the file doesn't exist\n",
        "\n",
        "if student_data_path.exists():\n",
        "    student_data_path.unlink()\n",
        "if moved_file_location.exists():\n",
        "    moved_file_location.unlink()"
      ]
    },
    {
      "cell_type": "code",
      "execution_count": null,
      "id": "b30fccb9-61db-4481-abab-001b63bd400b",
      "metadata": {
        "id": "b30fccb9-61db-4481-abab-001b63bd400b"
      },
      "outputs": [],
      "source": [
        "# Remove an empty directory\n",
        "if student_data_folder.is_dir():\n",
        "    student_data_folder.rmdir()\n",
        "if student_data_folder.parent.is_dir():\n",
        "    student_data_folder.parent.rmdir()"
      ]
    },
    {
      "cell_type": "code",
      "execution_count": null,
      "id": "a4d03c43-1dbe-461f-a46f-029a001c8201",
      "metadata": {
        "id": "a4d03c43-1dbe-461f-a46f-029a001c8201",
        "colab": {
          "base_uri": "https://localhost:8080/"
        },
        "outputId": "25e5dee9-4f1f-4e64-eca3-14c4a01dcedc"
      },
      "outputs": [
        {
          "output_type": "execute_result",
          "data": {
            "text/plain": [
              "856"
            ]
          },
          "metadata": {},
          "execution_count": 59
        }
      ],
      "source": [
        "# Redo these to use data Data.\n",
        "\n",
        "student_data_folder.mkdir(parents=True, exist_ok=True)\n",
        "student_data_path.write_text(json.dumps(student_data, indent=4))"
      ]
    },
    {
      "cell_type": "markdown",
      "id": "82c65493-802c-4d4c-9738-78cd30c8c003",
      "metadata": {
        "id": "82c65493-802c-4d4c-9738-78cd30c8c003"
      },
      "source": [
        "### Iterating on a dir."
      ]
    },
    {
      "cell_type": "code",
      "execution_count": null,
      "id": "84f403f9-7532-4981-8826-39f2122c383f",
      "metadata": {
        "id": "84f403f9-7532-4981-8826-39f2122c383f",
        "colab": {
          "base_uri": "https://localhost:8080/"
        },
        "outputId": "5db571c6-76a8-4bf6-cd8f-3cbe96a2c7ba"
      },
      "outputs": [
        {
          "output_type": "execute_result",
          "data": {
            "text/plain": [
              "[PosixPath('.config'),\n",
              " PosixPath('example.txt'),\n",
              " PosixPath('data'),\n",
              " PosixPath('sample_data')]"
            ]
          },
          "metadata": {},
          "execution_count": 71
        }
      ],
      "source": [
        "list(cwd_path.iterdir())"
      ]
    },
    {
      "cell_type": "code",
      "execution_count": null,
      "id": "ff830adf-f53e-4b3c-a044-84948c880a4b",
      "metadata": {
        "id": "ff830adf-f53e-4b3c-a044-84948c880a4b",
        "colab": {
          "base_uri": "https://localhost:8080/"
        },
        "outputId": "9eb80933-8fe1-472f-8b1f-a163ab0738c5"
      },
      "outputs": [
        {
          "output_type": "execute_result",
          "data": {
            "text/plain": [
              "[PosixPath('example.txt')]"
            ]
          },
          "metadata": {},
          "execution_count": 72
        }
      ],
      "source": [
        "# We can do pattern matching using glob\n",
        "# Here the **/*.jpeg looks in all subfolders matching any file with the .jpeg ending\n",
        "\n",
        "[path for path in cwd_path.glob('**/*.txt')]"
      ]
    },
    {
      "cell_type": "code",
      "execution_count": null,
      "id": "160be2c7-016d-4e12-866b-af6f01fab36b",
      "metadata": {
        "id": "160be2c7-016d-4e12-866b-af6f01fab36b"
      },
      "outputs": [],
      "source": [
        "from os import path\n",
        "from typing_extensions import Text\n",
        "# Challenge 1\n",
        "\n",
        "# Code a function to replace the file endings of all .txt files to .md within the current directory\n",
        "\n",
        "def replace_all_txt_with_md ()\n",
        "  for file_path in path_cwd.glob('**/*.txt')\n",
        "\n",
        "    ..."
      ]
    },
    {
      "cell_type": "code",
      "execution_count": null,
      "id": "f600470b-6ca7-4634-9b54-36c3539bd5c7",
      "metadata": {
        "id": "f600470b-6ca7-4634-9b54-36c3539bd5c7",
        "colab": {
          "base_uri": "https://localhost:8080/"
        },
        "outputId": "3c8807db-716f-48ee-a168-902260709f0f"
      },
      "outputs": [
        {
          "output_type": "execute_result",
          "data": {
            "text/plain": [
              "9"
            ]
          },
          "metadata": {},
          "execution_count": 67
        }
      ],
      "source": [
        "# test The solution by\n",
        "# 1. writing a .txt file.\n",
        "# 2. running the function .\n",
        "# 3. checking the file ending changed.\n",
        "\n",
        "Path('example.txt').write_text(\"# Example\")"
      ]
    },
    {
      "cell_type": "code",
      "execution_count": null,
      "id": "5f783f73-f146-4759-9504-cdee419f393f",
      "metadata": {
        "id": "5f783f73-f146-4759-9504-cdee419f393f"
      },
      "outputs": [],
      "source": [
        "# replace_all_txt_with_md()"
      ]
    },
    {
      "cell_type": "code",
      "execution_count": null,
      "id": "3794c4db-1d7f-4418-950a-a05d4929572c",
      "metadata": {
        "id": "3794c4db-1d7f-4418-950a-a05d4929572c"
      },
      "outputs": [],
      "source": [
        "# Clean up the unwanted file\n",
        "# Path('example.md').unlink()"
      ]
    },
    {
      "cell_type": "code",
      "execution_count": null,
      "id": "479cdc5c-3378-45ed-9282-5abeb66f001e",
      "metadata": {
        "id": "479cdc5c-3378-45ed-9282-5abeb66f001e"
      },
      "outputs": [],
      "source": [
        "import base64\n",
        "\n",
        "def scramble(string: str) -> bytes:\n",
        "    return base64.b64encode(string.encode(\"utf-8\"))\n",
        "\n",
        "def un_scramble(string: bytes) -> str:\n",
        "    return base64.b64decode(string).decode(\"utf-8\")"
      ]
    },
    {
      "cell_type": "code",
      "execution_count": null,
      "id": "6d78602b-e21a-4300-b794-67ba269b54f0",
      "metadata": {
        "id": "6d78602b-e21a-4300-b794-67ba269b54f0",
        "colab": {
          "base_uri": "https://localhost:8080/"
        },
        "outputId": "9631647a-9820-4824-9022-22bde9c3a769"
      },
      "outputs": [
        {
          "output_type": "stream",
          "name": "stdout",
          "text": [
            "\n",
            "def replace_all_txt_with_md():\n",
            "    \"\"\"Replace .txt suffix with .md in current directory\"\"\"\n",
            "    for file_path in Path.cwd().glob(\"*.txt\"):\n",
            "        file_path.rename(file_path.with_suffix(\".md\"))\n",
            "\n"
          ]
        }
      ],
      "source": [
        "ANSWER_1 =  un_scramble(\n",
        "     b'CmRlZiByZXBsYWNlX2FsbF90eHRfd2l0aF9tZCgpOgogICAgIiIiUmVwbGFjZSAudHh0IHN1ZmZpeCB3aXRoIC5tZCBpbiB'\n",
        "     b'jdXJyZW50IGRpcmVjdG9yeSIiIgogICAgZm9yIGZpbGVfcGF0aCBpbiBQYXRoLmN3ZCgpLmdsb2IoIioudHh0Iik6CiAgICA'\n",
        "     b'gICAgZmlsZV9wYXRoLnJlbmFtZShmaWxlX3BhdGgud2l0aF9zdWZmaXgoIi5tZCIpKQo=')\n",
        "\n",
        "print(ANSWER_1)"
      ]
    },
    {
      "cell_type": "code",
      "source": [
        "\n",
        "def replace_all_txt_with_md():\n",
        "    \"\"\"Replace .txt suffix with .md in current directory\"\"\"\n",
        "    for file_path in Path.cwd().glob(\"*.txt\"):\n",
        "        file_path.rename(file_path.with_suffix(\".md\"))"
      ],
      "metadata": {
        "id": "BMzPXWNkijfK"
      },
      "id": "BMzPXWNkijfK",
      "execution_count": null,
      "outputs": []
    },
    {
      "cell_type": "markdown",
      "id": "9e538983",
      "metadata": {
        "id": "9e538983"
      },
      "source": [
        "## datetime"
      ]
    },
    {
      "cell_type": "markdown",
      "id": "9ae6633c-495e-41e6-8bd4-51d52c55862e",
      "metadata": {
        "id": "9ae6633c-495e-41e6-8bd4-51d52c55862e"
      },
      "source": [
        "The datetime module supplies classes for manipulating dates and times."
      ]
    },
    {
      "cell_type": "markdown",
      "id": "e4c7f25a-80ec-4cd9-b0d1-a315723d72b2",
      "metadata": {
        "id": "e4c7f25a-80ec-4cd9-b0d1-a315723d72b2"
      },
      "source": [
        "For more information see documentation: https://docs.python.org/3/library/datetime.html"
      ]
    },
    {
      "cell_type": "markdown",
      "id": "6c97fd66-31c3-43e3-8f80-f3def3340c81",
      "metadata": {
        "id": "6c97fd66-31c3-43e3-8f80-f3def3340c81"
      },
      "source": [
        "### A note on timezones"
      ]
    },
    {
      "cell_type": "markdown",
      "id": "41c72b90-5e3c-46ea-9fe2-9eddb5892c83",
      "metadata": {
        "id": "41c72b90-5e3c-46ea-9fe2-9eddb5892c83"
      },
      "source": [
        "Date and time objects may be categorized as “aware” or “naive” depending on whether or not they include timezone information."
      ]
    },
    {
      "cell_type": "markdown",
      "id": "dc4c66bf-c942-4c39-a9a9-a20767b84894",
      "metadata": {
        "id": "dc4c66bf-c942-4c39-a9a9-a20767b84894"
      },
      "source": [
        "### Key classes"
      ]
    },
    {
      "cell_type": "markdown",
      "id": "e95c786c-145c-400e-ad4d-cd30a0b3afc6",
      "metadata": {
        "id": "e95c786c-145c-400e-ad4d-cd30a0b3afc6"
      },
      "source": [
        "`datetime.date`\n",
        "Attributes: year, month, and day.\n",
        "\n",
        "`datetime.time`\n",
        "Attributes: hour, minute, second, microsecond, and tzinfo.\n",
        "\n",
        "`datetime.datetime`\n",
        "Attributes: year, month, day, hour, minute, second, microsecond, and tzinfo.\n",
        "\n",
        "`datetime.timedelta`\n",
        "A duration expressing the difference between two date, time, or datetime instances to microsecond resolution.\n",
        "\n",
        "`datetime.tzinfo`\n",
        "An abstract base class for time zone information objects. These are used by the datetime and time classes to provide a customizable notion of time adjustment (for example, to account for time zone and/or daylight saving time).\n",
        "\n",
        "`datetime.timezone`\n",
        "A class that implements the tzinfo abstract base class as a fixed offset from the UTC.\n",
        "\n"
      ]
    },
    {
      "cell_type": "markdown",
      "id": "d68dd98e-acb6-489a-82be-de00a97f9cbf",
      "metadata": {
        "id": "d68dd98e-acb6-489a-82be-de00a97f9cbf"
      },
      "source": [
        "Notes:\n",
        "- Objects of these types are immutable. (if the value of an object cannot be changed over time, then it is known as immutable)\n",
        "- Objects of these types are hashable, meaning that they can be used as dictionary keys.\n",
        "- Objects of these types support efficient pickling via the pickle module."
      ]
    },
    {
      "cell_type": "code",
      "execution_count": null,
      "id": "baa00918-de1d-471b-bb6e-386ac7cf1f15",
      "metadata": {
        "id": "baa00918-de1d-471b-bb6e-386ac7cf1f15"
      },
      "outputs": [],
      "source": [
        "import datetime"
      ]
    },
    {
      "cell_type": "markdown",
      "id": "c3939c57-0992-47d8-89c6-5dd241896a67",
      "metadata": {
        "id": "c3939c57-0992-47d8-89c6-5dd241896a67"
      },
      "source": [
        "### date"
      ]
    },
    {
      "cell_type": "code",
      "execution_count": null,
      "id": "e6f5f595-39a8-4818-99d1-755f22e24dcc",
      "metadata": {
        "id": "e6f5f595-39a8-4818-99d1-755f22e24dcc"
      },
      "outputs": [],
      "source": [
        "twenty_fourth_april = datetime.date(year=2022, month=4, day=24)"
      ]
    },
    {
      "cell_type": "code",
      "execution_count": null,
      "id": "ad75822e-7a8c-476a-94f0-625a76284c6c",
      "metadata": {
        "id": "ad75822e-7a8c-476a-94f0-625a76284c6c",
        "colab": {
          "base_uri": "https://localhost:8080/"
        },
        "outputId": "9e04602f-8667-49d3-d219-d813fc627651"
      },
      "outputs": [
        {
          "output_type": "execute_result",
          "data": {
            "text/plain": [
              "datetime.date(2022, 4, 24)"
            ]
          },
          "metadata": {},
          "execution_count": 78
        }
      ],
      "source": [
        "twenty_fourth_april"
      ]
    },
    {
      "cell_type": "code",
      "execution_count": null,
      "id": "a8df7a75-dc5f-4260-84ed-a21564333e37",
      "metadata": {
        "id": "a8df7a75-dc5f-4260-84ed-a21564333e37"
      },
      "outputs": [],
      "source": [
        "today = datetime.date.today()"
      ]
    },
    {
      "cell_type": "code",
      "execution_count": null,
      "id": "15a3fef6-ee07-4870-b3fc-88d65cdf7bb7",
      "metadata": {
        "id": "15a3fef6-ee07-4870-b3fc-88d65cdf7bb7",
        "colab": {
          "base_uri": "https://localhost:8080/"
        },
        "outputId": "bafa48e4-4c92-4f58-9fb5-7d735d19a138"
      },
      "outputs": [
        {
          "output_type": "execute_result",
          "data": {
            "text/plain": [
              "datetime.date(2023, 8, 26)"
            ]
          },
          "metadata": {},
          "execution_count": 80
        }
      ],
      "source": [
        "today"
      ]
    },
    {
      "cell_type": "code",
      "execution_count": null,
      "id": "d2b26d4e-df89-4818-bfef-ab19e1f01618",
      "metadata": {
        "id": "d2b26d4e-df89-4818-bfef-ab19e1f01618",
        "colab": {
          "base_uri": "https://localhost:8080/"
        },
        "outputId": "f75e80d0-e2bd-4867-d422-c988569ac4e6"
      },
      "outputs": [
        {
          "output_type": "execute_result",
          "data": {
            "text/plain": [
              "(26, 8, 2023)"
            ]
          },
          "metadata": {},
          "execution_count": 81
        }
      ],
      "source": [
        "today.day, today.month, today.year"
      ]
    },
    {
      "cell_type": "markdown",
      "id": "6de2183b-a09d-4e07-9a84-ce32d778f62e",
      "metadata": {
        "id": "6de2183b-a09d-4e07-9a84-ce32d778f62e"
      },
      "source": [
        "### time"
      ]
    },
    {
      "cell_type": "code",
      "execution_count": null,
      "id": "a91e03ae-59fc-474f-b76f-6fabbd55b9c4",
      "metadata": {
        "id": "a91e03ae-59fc-474f-b76f-6fabbd55b9c4"
      },
      "outputs": [],
      "source": [
        "four_thirty = datetime.time(hour=16, minute=30, second=0, microsecond=0)"
      ]
    },
    {
      "cell_type": "code",
      "execution_count": null,
      "id": "71633559-f425-450b-9eaf-5a13f440c732",
      "metadata": {
        "id": "71633559-f425-450b-9eaf-5a13f440c732",
        "colab": {
          "base_uri": "https://localhost:8080/"
        },
        "outputId": "1a10eb6b-5948-4ae9-8d0a-efcaf62f8cc4"
      },
      "outputs": [
        {
          "output_type": "execute_result",
          "data": {
            "text/plain": [
              "datetime.time(16, 30)"
            ]
          },
          "metadata": {},
          "execution_count": 83
        }
      ],
      "source": [
        "four_thirty"
      ]
    },
    {
      "cell_type": "markdown",
      "id": "8886d96f-a41a-46c3-a383-8c365bbb16bb",
      "metadata": {
        "id": "8886d96f-a41a-46c3-a383-8c365bbb16bb"
      },
      "source": [
        "### datetime"
      ]
    },
    {
      "cell_type": "code",
      "execution_count": null,
      "id": "1cba8800-96c0-4c00-913e-dab4a557a29a",
      "metadata": {
        "id": "1cba8800-96c0-4c00-913e-dab4a557a29a"
      },
      "outputs": [],
      "source": [
        "order_at = datetime.datetime(\n",
        "    year=2022,\n",
        "    month=9,\n",
        "    day=16,\n",
        "    hour=20,\n",
        "    minute=30,\n",
        "    second=12,\n",
        "    microsecond=123,\n",
        "    tzinfo=None)"
      ]
    },
    {
      "cell_type": "code",
      "execution_count": null,
      "id": "aa58a061-7555-421f-b7df-657bc1f69d8d",
      "metadata": {
        "id": "aa58a061-7555-421f-b7df-657bc1f69d8d",
        "colab": {
          "base_uri": "https://localhost:8080/"
        },
        "outputId": "a46d1d48-c580-4912-c110-a8e28febb888"
      },
      "outputs": [
        {
          "output_type": "execute_result",
          "data": {
            "text/plain": [
              "datetime.datetime(2022, 9, 16, 20, 30, 12, 123)"
            ]
          },
          "metadata": {},
          "execution_count": 85
        }
      ],
      "source": [
        "order_at"
      ]
    },
    {
      "cell_type": "code",
      "execution_count": null,
      "id": "cb8ac4f0-90dd-44f0-83aa-1ab1a31753dc",
      "metadata": {
        "id": "cb8ac4f0-90dd-44f0-83aa-1ab1a31753dc",
        "colab": {
          "base_uri": "https://localhost:8080/"
        },
        "outputId": "c23444e7-3bff-40ff-f57e-6f96420bacd6"
      },
      "outputs": [
        {
          "output_type": "execute_result",
          "data": {
            "text/plain": [
              "datetime.date(2022, 9, 16)"
            ]
          },
          "metadata": {},
          "execution_count": 86
        }
      ],
      "source": [
        "order_at.date()"
      ]
    },
    {
      "cell_type": "code",
      "execution_count": null,
      "id": "3bebd0a5-0dfc-4278-89b3-c288bdc23a21",
      "metadata": {
        "id": "3bebd0a5-0dfc-4278-89b3-c288bdc23a21",
        "colab": {
          "base_uri": "https://localhost:8080/"
        },
        "outputId": "ef295e51-4b13-4936-eb8a-50c8b59441a9"
      },
      "outputs": [
        {
          "output_type": "execute_result",
          "data": {
            "text/plain": [
              "datetime.time(20, 30, 12, 123)"
            ]
          },
          "metadata": {},
          "execution_count": 87
        }
      ],
      "source": [
        "order_at.time()"
      ]
    },
    {
      "cell_type": "code",
      "execution_count": null,
      "id": "10e19b42-d7f2-4809-9c49-5a2a14fa0968",
      "metadata": {
        "id": "10e19b42-d7f2-4809-9c49-5a2a14fa0968",
        "colab": {
          "base_uri": "https://localhost:8080/"
        },
        "outputId": "07d570b4-3f93-4353-f228-6b6ffc944baa"
      },
      "outputs": [
        {
          "output_type": "execute_result",
          "data": {
            "text/plain": [
              "datetime.datetime(2023, 8, 26, 20, 42, 29, 300109)"
            ]
          },
          "metadata": {},
          "execution_count": 91
        }
      ],
      "source": [
        "now = datetime.datetime.now()\n",
        "now"
      ]
    },
    {
      "cell_type": "markdown",
      "id": "06e8fae7-0728-4571-8d87-b98545326aa4",
      "metadata": {
        "id": "06e8fae7-0728-4571-8d87-b98545326aa4"
      },
      "source": [
        "### Key methods"
      ]
    },
    {
      "cell_type": "code",
      "execution_count": null,
      "id": "6b503cc5-48bd-41b4-a1f6-bae09223d0a2",
      "metadata": {
        "id": "6b503cc5-48bd-41b4-a1f6-bae09223d0a2",
        "colab": {
          "base_uri": "https://localhost:8080/"
        },
        "outputId": "8caa193a-89dc-407a-db17-0f80145f4b20"
      },
      "outputs": [
        {
          "output_type": "execute_result",
          "data": {
            "text/plain": [
              "datetime.datetime(2023, 8, 26, 16, 30)"
            ]
          },
          "metadata": {},
          "execution_count": 92
        }
      ],
      "source": [
        "datetime.datetime.combine(date=today, time=four_thirty)"
      ]
    },
    {
      "cell_type": "code",
      "execution_count": null,
      "id": "ca796c80-6e51-4a44-9c66-f7e2005465c7",
      "metadata": {
        "id": "ca796c80-6e51-4a44-9c66-f7e2005465c7",
        "colab": {
          "base_uri": "https://localhost:8080/",
          "height": 35
        },
        "outputId": "e1af9e67-0c8c-4ae3-f774-63f0c745e5fe"
      },
      "outputs": [
        {
          "output_type": "execute_result",
          "data": {
            "text/plain": [
              "'2023-08-26 16:30:00'"
            ],
            "application/vnd.google.colaboratory.intrinsic+json": {
              "type": "string"
            }
          },
          "metadata": {},
          "execution_count": 93
        }
      ],
      "source": [
        "str(datetime.datetime.combine(date=today, time=four_thirty))"
      ]
    },
    {
      "cell_type": "code",
      "execution_count": null,
      "id": "1e7d938c-ae21-4317-99c3-276ae0ef050d",
      "metadata": {
        "id": "1e7d938c-ae21-4317-99c3-276ae0ef050d",
        "colab": {
          "base_uri": "https://localhost:8080/",
          "height": 35
        },
        "outputId": "bfb2d3a9-c491-4201-dcbf-8fb8e65d45be"
      },
      "outputs": [
        {
          "output_type": "execute_result",
          "data": {
            "text/plain": [
              "'2023-08-26'"
            ],
            "application/vnd.google.colaboratory.intrinsic+json": {
              "type": "string"
            }
          },
          "metadata": {},
          "execution_count": 94
        }
      ],
      "source": [
        "str(today)"
      ]
    },
    {
      "cell_type": "markdown",
      "id": "c0222d91-7248-4d26-8617-4515a3a4fb6b",
      "metadata": {
        "id": "c0222d91-7248-4d26-8617-4515a3a4fb6b"
      },
      "source": [
        "### isoformat"
      ]
    },
    {
      "cell_type": "code",
      "execution_count": null,
      "id": "69be9ff8-6590-43f1-ae7e-7b01694193b9",
      "metadata": {
        "id": "69be9ff8-6590-43f1-ae7e-7b01694193b9",
        "colab": {
          "base_uri": "https://localhost:8080/",
          "height": 35
        },
        "outputId": "3f83468b-1d2c-4846-989b-e689ce451444"
      },
      "outputs": [
        {
          "output_type": "execute_result",
          "data": {
            "text/plain": [
              "'2023-08-26'"
            ],
            "application/vnd.google.colaboratory.intrinsic+json": {
              "type": "string"
            }
          },
          "metadata": {},
          "execution_count": 95
        }
      ],
      "source": [
        "# returns the string in a standardised form  ISO 8601 format\n",
        "today.isoformat()"
      ]
    },
    {
      "cell_type": "code",
      "execution_count": null,
      "id": "151559c5-349e-4529-84b0-15492c61c6d8",
      "metadata": {
        "id": "151559c5-349e-4529-84b0-15492c61c6d8",
        "colab": {
          "base_uri": "https://localhost:8080/",
          "height": 35
        },
        "outputId": "43d8208b-2799-4d17-f2c0-67b51e6acadc"
      },
      "outputs": [
        {
          "output_type": "execute_result",
          "data": {
            "text/plain": [
              "'2023-08-26T20:42:29.300109'"
            ],
            "application/vnd.google.colaboratory.intrinsic+json": {
              "type": "string"
            }
          },
          "metadata": {},
          "execution_count": 96
        }
      ],
      "source": [
        "now.isoformat()"
      ]
    },
    {
      "cell_type": "code",
      "execution_count": null,
      "id": "d48a55b3-aaa9-4cbb-a1e3-6c7cb1c10819",
      "metadata": {
        "id": "d48a55b3-aaa9-4cbb-a1e3-6c7cb1c10819",
        "colab": {
          "base_uri": "https://localhost:8080/"
        },
        "outputId": "3ac9cf4d-7db3-4bfa-8a52-05d39038585d"
      },
      "outputs": [
        {
          "output_type": "execute_result",
          "data": {
            "text/plain": [
              "datetime.date(2022, 4, 24)"
            ]
          },
          "metadata": {},
          "execution_count": 97
        }
      ],
      "source": [
        "datetime.date.fromisoformat('2022-04-24')"
      ]
    },
    {
      "cell_type": "code",
      "execution_count": null,
      "id": "09d086aa-b48a-4df4-8c91-70b2cb7b16e3",
      "metadata": {
        "id": "09d086aa-b48a-4df4-8c91-70b2cb7b16e3",
        "colab": {
          "base_uri": "https://localhost:8080/"
        },
        "outputId": "3228ae11-9f01-4d3f-ac38-4b264211ee2d"
      },
      "outputs": [
        {
          "output_type": "execute_result",
          "data": {
            "text/plain": [
              "datetime.datetime(2022, 4, 24, 17, 23, 54, 908505)"
            ]
          },
          "metadata": {},
          "execution_count": 98
        }
      ],
      "source": [
        "datetime.datetime.fromisoformat('2022-04-24T17:23:54.908505')"
      ]
    },
    {
      "cell_type": "markdown",
      "id": "3795ae87-b398-4891-9ff2-7bab901203a5",
      "metadata": {
        "id": "3795ae87-b398-4891-9ff2-7bab901203a5"
      },
      "source": [
        "### more formats"
      ]
    },
    {
      "cell_type": "code",
      "execution_count": null,
      "id": "ef238abf-4279-4c09-a8eb-ddc1a015b44d",
      "metadata": {
        "id": "ef238abf-4279-4c09-a8eb-ddc1a015b44d",
        "colab": {
          "base_uri": "https://localhost:8080/"
        },
        "outputId": "1fa18e3b-108c-4caf-e135-34cb7cb5f5a8"
      },
      "outputs": [
        {
          "output_type": "stream",
          "name": "stdout",
          "text": [
            "now with format %a is Sat\n",
            "now with format %A is Saturday\n",
            "now with format %w is 6\n",
            "now with format %d is 26\n",
            "now with format %b is Aug\n",
            "now with format %B is August\n",
            "now with format %m is 08\n",
            "now with format %y is 23\n",
            "now with format %Y is 2023\n",
            "now with format %H is 20\n",
            "now with format %I is 08\n",
            "now with format %p is PM\n",
            "now with format %M is 42\n",
            "now with format %S is 29\n",
            "now with format %f is 300109\n",
            "now with format %z is \n",
            "now with format %j is 238\n",
            "now with format %U is 34\n",
            "now with format %W is 34\n",
            "now with format %c is Sat Aug 26 20:42:29 2023\n",
            "now with format %x is 08/26/23\n",
            "now with format %X is 20:42:29\n",
            "now with format %% is %\n"
          ]
        }
      ],
      "source": [
        "# You can use the strftime method which has special formatting directives to help customise\n",
        "\n",
        "for format_str in [\n",
        "    '%a', '%A', '%w', '%d', '%b', '%B',\n",
        "    '%m', '%y', '%Y', '%H', '%I', '%p',\n",
        "    '%M', '%S', '%f', '%z', '%j', '%U',\n",
        "    '%W', '%c', '%x', '%X', '%%']:\n",
        "    print(f\"now with format {format_str} is {now.strftime(format_str)}\")"
      ]
    },
    {
      "cell_type": "code",
      "execution_count": null,
      "id": "5c064867-7f3b-452d-b5d7-0b82424cac2e",
      "metadata": {
        "id": "5c064867-7f3b-452d-b5d7-0b82424cac2e"
      },
      "outputs": [],
      "source": [
        "# If you can specify the format you can convert from str to datetime\n",
        "\n",
        "datetime.datetime.strptime('Sunday-24-April----17:23:54   2022', '%A-%d-%B----%X   %Y')"
      ]
    },
    {
      "cell_type": "markdown",
      "id": "9c3de7ae-be60-4722-9ecd-1acee021bcba",
      "metadata": {
        "id": "9c3de7ae-be60-4722-9ecd-1acee021bcba"
      },
      "source": [
        "### replace"
      ]
    },
    {
      "cell_type": "code",
      "execution_count": null,
      "id": "a392b4e2-ed97-4c22-9303-58631155aca0",
      "metadata": {
        "id": "a392b4e2-ed97-4c22-9303-58631155aca0",
        "colab": {
          "base_uri": "https://localhost:8080/"
        },
        "outputId": "7885df29-b425-4dda-c620-9080970d2e0f"
      },
      "outputs": [
        {
          "output_type": "execute_result",
          "data": {
            "text/plain": [
              "datetime.date(2022, 8, 26)"
            ]
          },
          "metadata": {},
          "execution_count": 100
        }
      ],
      "source": [
        "today.replace(year=today.year - 1) # last year using replace"
      ]
    },
    {
      "cell_type": "code",
      "execution_count": null,
      "id": "a32732c2-e062-40b5-ac15-4acf2cfbd91f",
      "metadata": {
        "id": "a32732c2-e062-40b5-ac15-4acf2cfbd91f",
        "colab": {
          "base_uri": "https://localhost:8080/"
        },
        "outputId": "c70cbab1-024d-457c-bd79-d256dec493b2"
      },
      "outputs": [
        {
          "output_type": "execute_result",
          "data": {
            "text/plain": [
              "datetime.datetime(2023, 8, 26, 20, 42, 29, 300109)"
            ]
          },
          "metadata": {},
          "execution_count": 101
        }
      ],
      "source": [
        "now"
      ]
    },
    {
      "cell_type": "code",
      "execution_count": null,
      "id": "1e299be3-b35d-43f3-b6f5-2790025bdcad",
      "metadata": {
        "id": "1e299be3-b35d-43f3-b6f5-2790025bdcad",
        "colab": {
          "base_uri": "https://localhost:8080/"
        },
        "outputId": "6c7cfe73-942d-432d-ad11-5e89a3c2462f"
      },
      "outputs": [
        {
          "output_type": "execute_result",
          "data": {
            "text/plain": [
              "datetime.datetime(2023, 8, 26, 6, 42, 29, 300109)"
            ]
          },
          "metadata": {},
          "execution_count": 102
        }
      ],
      "source": [
        "now.replace(hour=6)"
      ]
    },
    {
      "cell_type": "markdown",
      "id": "e9bda209-96a5-4038-a2ba-3b3311235e18",
      "metadata": {
        "id": "e9bda209-96a5-4038-a2ba-3b3311235e18"
      },
      "source": [
        "### timedelta"
      ]
    },
    {
      "cell_type": "code",
      "execution_count": null,
      "id": "1fbfd6e1-0393-4caf-bf50-fb6da0f8e295",
      "metadata": {
        "id": "1fbfd6e1-0393-4caf-bf50-fb6da0f8e295",
        "colab": {
          "base_uri": "https://localhost:8080/"
        },
        "outputId": "dd58bf17-db16-44ba-93f3-6e5cc29c3493"
      },
      "outputs": [
        {
          "output_type": "execute_result",
          "data": {
            "text/plain": [
              "datetime.timedelta(days=64, seconds=29156, microseconds=10)"
            ]
          },
          "metadata": {},
          "execution_count": 103
        }
      ],
      "source": [
        "delta = datetime.timedelta(\n",
        "    days=50,\n",
        "    seconds=27,\n",
        "    microseconds=10,\n",
        "    milliseconds=29000,\n",
        "    minutes=5,\n",
        "    hours=8,\n",
        "    weeks=2\n",
        ")\n",
        "# Only days, seconds, and microseconds remain\n",
        "delta"
      ]
    },
    {
      "cell_type": "code",
      "execution_count": null,
      "id": "436e4409-0f02-4bcf-babe-bedfeda94f87",
      "metadata": {
        "id": "436e4409-0f02-4bcf-babe-bedfeda94f87",
        "colab": {
          "base_uri": "https://localhost:8080/"
        },
        "outputId": "62dde671-d134-4653-95dd-cc9e2b2954f9"
      },
      "outputs": [
        {
          "output_type": "execute_result",
          "data": {
            "text/plain": [
              "5558756.00001"
            ]
          },
          "metadata": {},
          "execution_count": 104
        }
      ],
      "source": [
        "delta.total_seconds()"
      ]
    },
    {
      "cell_type": "code",
      "execution_count": null,
      "id": "dd6c4514-c562-4c82-a053-6d0f220b001d",
      "metadata": {
        "id": "dd6c4514-c562-4c82-a053-6d0f220b001d"
      },
      "outputs": [],
      "source": [
        "year = datetime.timedelta(days=365)\n",
        "another_year = datetime.timedelta(weeks=40, days=84, hours=23,\n",
        "                                  minutes=50, seconds=600)"
      ]
    },
    {
      "cell_type": "code",
      "execution_count": null,
      "id": "a7917058-3e26-4221-92e1-a9189706eca7",
      "metadata": {
        "id": "a7917058-3e26-4221-92e1-a9189706eca7",
        "colab": {
          "base_uri": "https://localhost:8080/"
        },
        "outputId": "6d954e91-241c-41ac-f3e5-adbd4fa6eb20"
      },
      "outputs": [
        {
          "output_type": "execute_result",
          "data": {
            "text/plain": [
              "True"
            ]
          },
          "metadata": {},
          "execution_count": 106
        }
      ],
      "source": [
        "year == another_year"
      ]
    },
    {
      "cell_type": "markdown",
      "id": "f0bfd5d0-99f9-4d3b-ae86-1bbe395ca095",
      "metadata": {
        "id": "f0bfd5d0-99f9-4d3b-ae86-1bbe395ca095"
      },
      "source": [
        "### Example"
      ]
    },
    {
      "cell_type": "code",
      "execution_count": null,
      "id": "d045fbad-710f-4986-95a7-5a952ce2529e",
      "metadata": {
        "id": "d045fbad-710f-4986-95a7-5a952ce2529e"
      },
      "outputs": [],
      "source": [
        "# Challenge 1\n",
        "\n",
        "# Write a function days_until_next_birthday taking a month and a day and returning an integer number of\n",
        "# days until the date.\n",
        "\n",
        "def days_until_next_birthday(month:int, day:int) -> int:\n",
        "    ..."
      ]
    },
    {
      "cell_type": "code",
      "execution_count": null,
      "id": "3d12bfc8-fc92-4f10-858e-04f5aeaef5bf",
      "metadata": {
        "id": "3d12bfc8-fc92-4f10-858e-04f5aeaef5bf"
      },
      "outputs": [],
      "source": [
        "ANSWER_2 = un_scramble(\n",
        "    b'ZGVmIGRheXNfdW50aWxfbmV4dF9iaXJ0aGRheShtb250aDppbnQsIGRheTppbnQpIC0+IGludDoKICAgIHR'\n",
        "    b'vZGF5ID0gZGF0ZXRpbWUuZGF0ZS50b2RheSgpCiAgICBiaXJ0aGRheSA9IHRvZGF5LnJlcGxhY2UobW9udGg'\n",
        "    b'9bW9udGgsIGRheT1kYXkpCiAgICBpZiBiaXJ0aGRheSA8IHRvZGF5OgogICAgICAgIGJpcnRoZGF5ID0gYml'\n",
        "    b'ydGhkYXkucmVwbGFjZSh5ZWFyPSBiaXJ0aGRheS55ZWFyICsgMSkKICAgIHJldHVybiAoYmlydGhkYXkgLSB'\n",
        "    b'0b2RheSkuZGF5cwoKZGF5c191bnRpbF9uZXh0X2JpcnRoZGF5KG1vbnRoPTIsIGRheT0xNik='\n",
        ")\n",
        "\n",
        "print(ANSWER_2)"
      ]
    },
    {
      "cell_type": "markdown",
      "id": "f03b4478",
      "metadata": {
        "id": "f03b4478"
      },
      "source": [
        "## collections"
      ]
    },
    {
      "cell_type": "markdown",
      "id": "a0b58e15-36e0-42be-ab2e-be2353aea5f7",
      "metadata": {
        "id": "a0b58e15-36e0-42be-ab2e-be2353aea5f7"
      },
      "source": [
        "This module implements specialized container datatypes providing alternatives to Python’s general purpose built-in containers, dict, list, set, and tuple.\n",
        "\n",
        "For more information see the documentation: https://docs.python.org/3/library/collections.html"
      ]
    },
    {
      "cell_type": "markdown",
      "id": "b15a843c-83b3-4bfe-9868-aa58ad62c211",
      "metadata": {
        "id": "b15a843c-83b3-4bfe-9868-aa58ad62c211"
      },
      "source": [
        "A brief overview:"
      ]
    },
    {
      "cell_type": "markdown",
      "id": "fd1fe41f-9094-45f3-92e8-00694991a04e",
      "metadata": {
        "id": "fd1fe41f-9094-45f3-92e8-00694991a04e"
      },
      "source": [
        "| Name         | Description                                                          |\n",
        "| ------------ | -------------------------------------------------------------------- |\n",
        "| namedtuple() | factory function for creating tuple subclasses with named fields     |\n",
        "| deque        | list-like container with fast appends and pops on either end         |\n",
        "| ChainMap     | dict-like class for creating a single view of multiple mappings      |\n",
        "| Counter      | dict subclass for counting hashable objects                          |\n",
        "| OrderedDict  | dict subclass that remembers the order entries were added            |\n",
        "| defaultdict  | dict subclass that calls a factory function to supply missing values |\n",
        "| UserDict     | wrapper around dictionary objects for easier dict subclassing        |\n",
        "| UserList     | wrapper around list objects for easier list subclassing              |\n",
        "| UserString   | wrapper around string objects for easier string subclassing          |\n"
      ]
    },
    {
      "cell_type": "code",
      "execution_count": null,
      "id": "74bc4560-c289-426b-b6ea-dff9cec09216",
      "metadata": {
        "id": "74bc4560-c289-426b-b6ea-dff9cec09216"
      },
      "outputs": [],
      "source": [
        "from collections import Counter\n",
        "from collections import deque\n",
        "from collections import defaultdict\n",
        "from collections import namedtuple"
      ]
    },
    {
      "cell_type": "markdown",
      "id": "7d09dfa7-2c2c-415f-b8c6-65dea92752e9",
      "metadata": {
        "id": "7d09dfa7-2c2c-415f-b8c6-65dea92752e9"
      },
      "source": [
        "### Counter"
      ]
    },
    {
      "cell_type": "markdown",
      "id": "aadc0a36-5563-41d4-bc20-3308f2ad2595",
      "metadata": {
        "id": "aadc0a36-5563-41d4-bc20-3308f2ad2595"
      },
      "source": [
        "A Counter is a dict subclass for counting hashable objects. It is a collection where elements are stored as dictionary keys and their counts are stored as dictionary values."
      ]
    },
    {
      "cell_type": "code",
      "execution_count": null,
      "id": "a421bf27-af21-499a-9cee-557d589966d1",
      "metadata": {
        "id": "a421bf27-af21-499a-9cee-557d589966d1"
      },
      "outputs": [],
      "source": [
        "# From an string (iterable)\n",
        "counter = Counter('misissippi')\n",
        "counter"
      ]
    },
    {
      "cell_type": "code",
      "execution_count": null,
      "id": "19c3ff18-e786-48e6-8d46-c70700430aea",
      "metadata": {
        "id": "19c3ff18-e786-48e6-8d46-c70700430aea"
      },
      "outputs": [],
      "source": [
        "# From an iterable\n",
        "counter = Counter([\"cat\", \"cat\", \"dog\", \"dog\", \"cat\", \"gold fish\"])\n",
        "counter"
      ]
    },
    {
      "cell_type": "code",
      "execution_count": null,
      "id": "ba0efcb6-21bc-495c-84ae-37db6c52c4bb",
      "metadata": {
        "id": "ba0efcb6-21bc-495c-84ae-37db6c52c4bb"
      },
      "outputs": [],
      "source": [
        "# From dict\n",
        "counter = Counter({'cat': 3, 'dog': 2, 'gold fish': 1})\n",
        "counter"
      ]
    },
    {
      "cell_type": "code",
      "execution_count": null,
      "id": "4a76198d-73a2-4249-b180-24850dfeba06",
      "metadata": {
        "id": "4a76198d-73a2-4249-b180-24850dfeba06"
      },
      "outputs": [],
      "source": [
        "# Missing elements have 0\n",
        "counter['shark']"
      ]
    },
    {
      "cell_type": "code",
      "execution_count": null,
      "id": "7d2551d5-a56f-44a0-b602-6c9fdd9c8aee",
      "metadata": {
        "id": "7d2551d5-a56f-44a0-b602-6c9fdd9c8aee"
      },
      "outputs": [],
      "source": [
        "list(counter.elements())"
      ]
    },
    {
      "cell_type": "code",
      "execution_count": null,
      "id": "d34e053e-9346-469e-a8dc-7c4f93b938b8",
      "metadata": {
        "id": "d34e053e-9346-469e-a8dc-7c4f93b938b8"
      },
      "outputs": [],
      "source": [
        "# Nice and fast using the standard library heapq\n",
        "\n",
        "counter.most_common(2)"
      ]
    },
    {
      "cell_type": "code",
      "execution_count": null,
      "id": "a2cda5dd-df63-49f6-b15f-fe9fd3b8e39c",
      "metadata": {
        "id": "a2cda5dd-df63-49f6-b15f-fe9fd3b8e39c"
      },
      "outputs": [],
      "source": [
        "another_counter = Counter({'cat': 3, 'dog': 10})"
      ]
    },
    {
      "cell_type": "code",
      "execution_count": null,
      "id": "91cefb38-7d1f-4fc9-af16-1bf1e16cc805",
      "metadata": {
        "id": "91cefb38-7d1f-4fc9-af16-1bf1e16cc805"
      },
      "outputs": [],
      "source": [
        "counter + another_counter"
      ]
    },
    {
      "cell_type": "code",
      "execution_count": null,
      "id": "4bccec18",
      "metadata": {
        "id": "4bccec18"
      },
      "outputs": [],
      "source": [
        "counter"
      ]
    },
    {
      "cell_type": "code",
      "execution_count": null,
      "id": "559ccef9-2414-41ab-bacd-ff71c456dda7",
      "metadata": {
        "id": "559ccef9-2414-41ab-bacd-ff71c456dda7"
      },
      "outputs": [],
      "source": [
        "# You can increment the values like so:\n",
        "counter['dog'] += 1"
      ]
    },
    {
      "cell_type": "code",
      "execution_count": null,
      "id": "e0a7cc64",
      "metadata": {
        "id": "e0a7cc64"
      },
      "outputs": [],
      "source": [
        "counter"
      ]
    },
    {
      "cell_type": "markdown",
      "id": "a129484d-31a0-4bf6-9e1a-46e8f87c5d5b",
      "metadata": {
        "id": "a129484d-31a0-4bf6-9e1a-46e8f87c5d5b"
      },
      "source": [
        "### deque"
      ]
    },
    {
      "cell_type": "markdown",
      "id": "567d1327-bd7c-48fd-b426-372ef51fc6b1",
      "metadata": {
        "id": "567d1327-bd7c-48fd-b426-372ef51fc6b1"
      },
      "source": [
        "Deques support thread-safe, memory efficient appends and pops from either side of the deque with approximately the same O(1) performance in either direction"
      ]
    },
    {
      "cell_type": "code",
      "execution_count": null,
      "id": "ec72a3b4-e930-4738-a5a7-9bd7d6593804",
      "metadata": {
        "id": "ec72a3b4-e930-4738-a5a7-9bd7d6593804"
      },
      "outputs": [],
      "source": [
        "example_deque = deque(range(5))"
      ]
    },
    {
      "cell_type": "code",
      "execution_count": null,
      "id": "ab2e2872-ca83-49a4-b592-b89cc07339ff",
      "metadata": {
        "id": "ab2e2872-ca83-49a4-b592-b89cc07339ff"
      },
      "outputs": [],
      "source": [
        "example_deque"
      ]
    },
    {
      "cell_type": "code",
      "execution_count": null,
      "id": "d0023327-16ea-4d67-872b-0d2a5d3aa8fa",
      "metadata": {
        "id": "d0023327-16ea-4d67-872b-0d2a5d3aa8fa"
      },
      "outputs": [],
      "source": [
        "example_deque.append(5)\n",
        "example_deque.appendleft(-1)"
      ]
    },
    {
      "cell_type": "code",
      "execution_count": null,
      "id": "92f39cc4-a8da-4275-96c7-4ef67fd97983",
      "metadata": {
        "id": "92f39cc4-a8da-4275-96c7-4ef67fd97983"
      },
      "outputs": [],
      "source": [
        "example_deque"
      ]
    },
    {
      "cell_type": "code",
      "execution_count": null,
      "id": "65b2ca99-dd64-40c4-b80a-8f02a596c4a2",
      "metadata": {
        "id": "65b2ca99-dd64-40c4-b80a-8f02a596c4a2"
      },
      "outputs": [],
      "source": [
        "example_deque.extend([6, 7, 8])\n",
        "example_deque.extendleft([-2, -3, -4]) # Note the ordering.\n",
        "example_deque"
      ]
    },
    {
      "cell_type": "code",
      "execution_count": null,
      "id": "9cb7560c-fb09-4100-8d77-d8a3d6380a8c",
      "metadata": {
        "id": "9cb7560c-fb09-4100-8d77-d8a3d6380a8c"
      },
      "outputs": [],
      "source": [
        "example_deque.index(3)"
      ]
    },
    {
      "cell_type": "code",
      "execution_count": null,
      "id": "e6858646-b1d8-4f18-922d-a0fcc692c40f",
      "metadata": {
        "id": "e6858646-b1d8-4f18-922d-a0fcc692c40f"
      },
      "outputs": [],
      "source": [
        "# This is inplace\n",
        "# meaning the object is edited directly instead of creating a new reversed deque\n",
        "example_deque.reverse()"
      ]
    },
    {
      "cell_type": "code",
      "execution_count": null,
      "id": "9adb1391-1a36-4d2b-87e7-10ae2052061c",
      "metadata": {
        "id": "9adb1391-1a36-4d2b-87e7-10ae2052061c"
      },
      "outputs": [],
      "source": [
        "example_deque"
      ]
    },
    {
      "cell_type": "markdown",
      "id": "f2c9e2e1-d204-431e-88eb-e4b3d2f98bc8",
      "metadata": {
        "id": "f2c9e2e1-d204-431e-88eb-e4b3d2f98bc8"
      },
      "source": [
        "deque with maxlen"
      ]
    },
    {
      "cell_type": "code",
      "execution_count": null,
      "id": "bce4545a-a282-4354-9098-f673aa2b0bf4",
      "metadata": {
        "id": "bce4545a-a282-4354-9098-f673aa2b0bf4"
      },
      "outputs": [],
      "source": [
        "limited_deque = deque(range(5), maxlen=5)\n",
        "limited_deque"
      ]
    },
    {
      "cell_type": "code",
      "execution_count": null,
      "id": "e29eed13-6cb6-4512-afed-c143fbb73675",
      "metadata": {
        "id": "e29eed13-6cb6-4512-afed-c143fbb73675"
      },
      "outputs": [],
      "source": [
        "# note this pops off the 0\n",
        "limited_deque.append(5)\n",
        "limited_deque"
      ]
    },
    {
      "cell_type": "code",
      "execution_count": null,
      "id": "a323d65d-7758-40a3-9b43-96faf7dfeb62",
      "metadata": {
        "id": "a323d65d-7758-40a3-9b43-96faf7dfeb62"
      },
      "outputs": [],
      "source": [
        "# this pushes off the 5 off the other end\n",
        "limited_deque.appendleft(0)\n",
        "limited_deque"
      ]
    },
    {
      "cell_type": "code",
      "execution_count": null,
      "id": "e16c9ffb-0503-4463-851a-e937d9efb6c8",
      "metadata": {
        "id": "e16c9ffb-0503-4463-851a-e937d9efb6c8"
      },
      "outputs": [],
      "source": [
        "# this sequentiall pushes the 5, 6, 7\n",
        "# onto the right end forcing out the 0, 1, 2\n",
        "limited_deque.extend([5, 6, 7])\n",
        "limited_deque"
      ]
    },
    {
      "cell_type": "code",
      "execution_count": null,
      "id": "0eebd950-18a3-49c4-89fa-cd626a1dc651",
      "metadata": {
        "id": "0eebd950-18a3-49c4-89fa-cd626a1dc651"
      },
      "outputs": [],
      "source": [
        "# this sequentially pushes the 1, 2, 3\n",
        "# onto the left end forcing out the 5, 6, 7\n",
        "limited_deque.extendleft([0, 1, 2])\n",
        "limited_deque"
      ]
    },
    {
      "cell_type": "code",
      "execution_count": null,
      "id": "77568e7c-f0c4-48a3-9268-e78d00b31087",
      "metadata": {
        "id": "77568e7c-f0c4-48a3-9268-e78d00b31087"
      },
      "outputs": [],
      "source": [
        "# this rotates elements n steps.\n",
        "limited_deque.rotate(2)\n",
        "limited_deque"
      ]
    },
    {
      "cell_type": "code",
      "execution_count": null,
      "id": "32ce9166-ea68-4fd4-b05a-8428473126c3",
      "metadata": {
        "id": "32ce9166-ea68-4fd4-b05a-8428473126c3"
      },
      "outputs": [],
      "source": [
        "# we can access the maxlen\n",
        "limited_deque.maxlen"
      ]
    },
    {
      "cell_type": "code",
      "execution_count": null,
      "id": "54cb9925-d678-47fd-9628-9c8bafee99c4",
      "metadata": {
        "id": "54cb9925-d678-47fd-9628-9c8bafee99c4"
      },
      "outputs": [],
      "source": [
        "limited_deque.clear()\n",
        "limited_deque"
      ]
    },
    {
      "cell_type": "code",
      "execution_count": null,
      "id": "c0fa2693-27fd-4cfe-95c4-f158d699f940",
      "metadata": {
        "id": "c0fa2693-27fd-4cfe-95c4-f158d699f940"
      },
      "outputs": [],
      "source": [
        "# note if the initial iterable is longer than\n",
        "# the maxlen then we only get the last n elements\n",
        "deque([1, 2, 3, 4, 5], maxlen=3)"
      ]
    },
    {
      "cell_type": "markdown",
      "id": "276a86d9-ed33-4480-991e-41172ce178ed",
      "metadata": {
        "id": "276a86d9-ed33-4480-991e-41172ce178ed"
      },
      "source": [
        "### defaultdict"
      ]
    },
    {
      "cell_type": "code",
      "execution_count": null,
      "id": "8b758171-b801-40f9-b918-28703f71c14c",
      "metadata": {
        "id": "8b758171-b801-40f9-b918-28703f71c14c"
      },
      "outputs": [],
      "source": [
        "sentence = (\n",
        "    \"imagine we want to take a sentence and store words in lists in\"\n",
        "    \" a dictionary keyed on the letter that each word starts with\")\n",
        "sentence"
      ]
    },
    {
      "cell_type": "code",
      "execution_count": null,
      "id": "4a8f7b90-00d6-4763-beaa-5af1ad4567de",
      "metadata": {
        "id": "4a8f7b90-00d6-4763-beaa-5af1ad4567de"
      },
      "outputs": [],
      "source": [
        "words_by_starting_letter = {}\n",
        "for word in sentence.split(' '):\n",
        "    if word[0] not in words_by_starting_letter:\n",
        "        words_by_starting_letter[word[0]] = [word]\n",
        "    else: # we know it's a list so append\n",
        "        words_by_starting_letter[word[0]].append(word)\n",
        "\n",
        "words_by_starting_letter"
      ]
    },
    {
      "cell_type": "code",
      "execution_count": null,
      "id": "7a82391f-43a6-4788-8c8e-8ff001ef9bc7",
      "metadata": {
        "id": "7a82391f-43a6-4788-8c8e-8ff001ef9bc7"
      },
      "outputs": [],
      "source": [
        "words_by_starting_letter = defaultdict(list)\n",
        "for word in sentence.split(' '):\n",
        "    words_by_starting_letter[word[0]].append(word)\n",
        "words_by_starting_letter"
      ]
    },
    {
      "cell_type": "code",
      "execution_count": null,
      "id": "de914cb0-3c2e-4667-a7e0-8ac27d025d09",
      "metadata": {
        "id": "de914cb0-3c2e-4667-a7e0-8ac27d025d09"
      },
      "outputs": [],
      "source": [
        "# An example from the offical docs:\n",
        "s = 'mississippi'\n",
        "letter_counts = defaultdict(int)\n",
        "for char in s:\n",
        "    letter_counts[char] += 1\n",
        "\n",
        "letter_counts"
      ]
    },
    {
      "cell_type": "markdown",
      "id": "ef00b272-9620-483f-9629-3783e4a0a812",
      "metadata": {
        "id": "ef00b272-9620-483f-9629-3783e4a0a812"
      },
      "source": [
        "### named tuple"
      ]
    },
    {
      "cell_type": "markdown",
      "id": "20be8757-c7f0-446c-9278-7583fcc05227",
      "metadata": {
        "id": "20be8757-c7f0-446c-9278-7583fcc05227"
      },
      "source": [
        "Named tuples assign meaning to each position in a tuple and allow for more readable, self-documenting code."
      ]
    },
    {
      "cell_type": "code",
      "execution_count": null,
      "id": "04e97f16-417d-41e5-a5a8-4b12c8532b7f",
      "metadata": {
        "id": "04e97f16-417d-41e5-a5a8-4b12c8532b7f"
      },
      "outputs": [],
      "source": [
        "student_data"
      ]
    },
    {
      "cell_type": "code",
      "execution_count": null,
      "id": "4e815b29-37ea-42c5-b002-c1317e7dc8a1",
      "metadata": {
        "id": "4e815b29-37ea-42c5-b002-c1317e7dc8a1"
      },
      "outputs": [],
      "source": [
        "student = ('Simon Ward-Jones', 30, True, [100, 100, 100, 99, 100])"
      ]
    },
    {
      "cell_type": "code",
      "execution_count": null,
      "id": "0b1d4a13-5aa9-45a2-b0f8-14c61c2f2eb9",
      "metadata": {
        "id": "0b1d4a13-5aa9-45a2-b0f8-14c61c2f2eb9"
      },
      "outputs": [],
      "source": [
        "def display_student(student):\n",
        "    print(f\"Student {student[0]} is {student[1]} years old \"\n",
        "          f\"and has test scores {student[3]}\")"
      ]
    },
    {
      "cell_type": "code",
      "execution_count": null,
      "id": "31849d2f-3fb5-4dee-a348-82f6035f9639",
      "metadata": {
        "id": "31849d2f-3fb5-4dee-a348-82f6035f9639"
      },
      "outputs": [],
      "source": [
        "display_student(student)"
      ]
    },
    {
      "cell_type": "code",
      "execution_count": null,
      "id": "2036bf4a-294c-40de-ba8b-867cfc0d7360",
      "metadata": {
        "id": "2036bf4a-294c-40de-ba8b-867cfc0d7360"
      },
      "outputs": [],
      "source": [
        "Student = namedtuple(\"Student\", \"name age on_vacation test_scores\")"
      ]
    },
    {
      "cell_type": "code",
      "execution_count": null,
      "id": "13824680-39a0-4b30-8be7-5c8a395e636a",
      "metadata": {
        "id": "13824680-39a0-4b30-8be7-5c8a395e636a"
      },
      "outputs": [],
      "source": [
        "Student = namedtuple(\"Student\", [\"name\", \"age\", \"on_vacation\", \"test_scores\"])"
      ]
    },
    {
      "cell_type": "code",
      "execution_count": null,
      "id": "88618cbd-31fc-40e5-a78b-4da5f97aa33e",
      "metadata": {
        "id": "88618cbd-31fc-40e5-a78b-4da5f97aa33e"
      },
      "outputs": [],
      "source": [
        "simon = Student(\n",
        "    name='Simon Ward-Jones',\n",
        "    age=30,\n",
        "    on_vacation=True,\n",
        "    test_scores=[100, 100, 100, 99, 100])"
      ]
    },
    {
      "cell_type": "code",
      "execution_count": null,
      "id": "d0ccefb4-e4f7-4239-b83c-3e8fce8a2fc5",
      "metadata": {
        "id": "d0ccefb4-e4f7-4239-b83c-3e8fce8a2fc5"
      },
      "outputs": [],
      "source": [
        "simon[2]"
      ]
    },
    {
      "cell_type": "code",
      "execution_count": null,
      "id": "8fdc47d2-c392-4451-ae27-88e0ce09bda3",
      "metadata": {
        "id": "8fdc47d2-c392-4451-ae27-88e0ce09bda3"
      },
      "outputs": [],
      "source": [
        "simon.on_vacation"
      ]
    },
    {
      "cell_type": "code",
      "execution_count": null,
      "id": "5614e41f-b4ac-4cd2-840b-da2e6618b22c",
      "metadata": {
        "id": "5614e41f-b4ac-4cd2-840b-da2e6618b22c"
      },
      "outputs": [],
      "source": [
        "def display_student(student: Student):\n",
        "    print(f\"Student {student.name} is {student.age} years old \"\n",
        "          f\"and has test scores {student.test_scores}\")"
      ]
    },
    {
      "cell_type": "code",
      "execution_count": null,
      "id": "8020da3b-e224-4716-b872-0f4d995b1700",
      "metadata": {
        "id": "8020da3b-e224-4716-b872-0f4d995b1700"
      },
      "outputs": [],
      "source": [
        "display_student(simon)"
      ]
    },
    {
      "cell_type": "code",
      "execution_count": null,
      "id": "cbb8ddc0-d92e-4575-b145-033fb0574a0c",
      "metadata": {
        "id": "cbb8ddc0-d92e-4575-b145-033fb0574a0c"
      },
      "outputs": [],
      "source": [
        "older_simon = simon._replace(age=31)\n",
        "older_simon # note this is a new instance!"
      ]
    },
    {
      "cell_type": "code",
      "execution_count": null,
      "id": "478a203c-ecfc-41f3-a37c-bd8e7b8f7d97",
      "metadata": {
        "id": "478a203c-ecfc-41f3-a37c-bd8e7b8f7d97"
      },
      "outputs": [],
      "source": [
        "simon._fields"
      ]
    },
    {
      "cell_type": "code",
      "execution_count": null,
      "id": "f13196ac-7cdd-4e2a-9984-d302517374bc",
      "metadata": {
        "id": "f13196ac-7cdd-4e2a-9984-d302517374bc"
      },
      "outputs": [],
      "source": [
        "# We can also do the same thing using the typing.NamedTuple"
      ]
    },
    {
      "cell_type": "code",
      "execution_count": null,
      "id": "7460ece7-154c-4bef-ad10-aa833e1e07ef",
      "metadata": {
        "id": "7460ece7-154c-4bef-ad10-aa833e1e07ef"
      },
      "outputs": [],
      "source": [
        "from typing import NamedTuple, List"
      ]
    },
    {
      "cell_type": "code",
      "execution_count": null,
      "id": "ae68e067-87c4-4703-afe4-2e6154a5e425",
      "metadata": {
        "id": "ae68e067-87c4-4703-afe4-2e6154a5e425"
      },
      "outputs": [],
      "source": [
        "class Student(NamedTuple):\n",
        "    name: str\n",
        "    age: int\n",
        "    on_vacation: bool\n",
        "    test_scores: List[int]"
      ]
    },
    {
      "cell_type": "code",
      "execution_count": null,
      "id": "2ed32844-4686-4a49-9058-d69be39e7dbe",
      "metadata": {
        "id": "2ed32844-4686-4a49-9058-d69be39e7dbe"
      },
      "outputs": [],
      "source": [
        "simon = Student(\n",
        "    name='Simon Ward-Jones',\n",
        "    age=30,\n",
        "    on_vacation=True,\n",
        "    test_scores=[100, 100, 100, 99, 100])"
      ]
    },
    {
      "cell_type": "code",
      "execution_count": null,
      "id": "33ceefed-d41a-4599-b967-8bf4fc903be9",
      "metadata": {
        "id": "33ceefed-d41a-4599-b967-8bf4fc903be9"
      },
      "outputs": [],
      "source": [
        "simon"
      ]
    },
    {
      "cell_type": "code",
      "execution_count": null,
      "id": "6249b95e-5674-4d1d-8b6c-f9420a145415",
      "metadata": {
        "id": "6249b95e-5674-4d1d-8b6c-f9420a145415"
      },
      "outputs": [],
      "source": [
        "student_data[0]"
      ]
    },
    {
      "cell_type": "code",
      "execution_count": null,
      "id": "37025de2-30d4-45c3-8a42-bf553fba3130",
      "metadata": {
        "id": "37025de2-30d4-45c3-8a42-bf553fba3130"
      },
      "outputs": [],
      "source": [
        "students = [Student._make(student.values()) for student in student_data]"
      ]
    },
    {
      "cell_type": "code",
      "execution_count": null,
      "id": "d335ce01-0dc8-4208-835f-615241b3e90c",
      "metadata": {
        "id": "d335ce01-0dc8-4208-835f-615241b3e90c"
      },
      "outputs": [],
      "source": [
        "students"
      ]
    },
    {
      "cell_type": "code",
      "execution_count": null,
      "id": "02b57a21-791b-46f7-bdfc-a5dedd5ea49b",
      "metadata": {
        "id": "02b57a21-791b-46f7-bdfc-a5dedd5ea49b"
      },
      "outputs": [],
      "source": [
        "# Challenge 3\n",
        "\n",
        "# Create a namedtuple called Point with and x and y attribute to represent points on a grid\n",
        "# Create a list with 100 random points with x values in 1,2,3 and y values in 1,2,3\n",
        "# Find the most common point in the list\n",
        "\n",
        "# Hint: use random.randint(1, 3)"
      ]
    },
    {
      "cell_type": "code",
      "execution_count": null,
      "id": "a40d2708-65b0-4ad6-a017-05440ea7a180",
      "metadata": {
        "id": "a40d2708-65b0-4ad6-a017-05440ea7a180"
      },
      "outputs": [],
      "source": [
        "ANSWER_3 = un_scramble(\n",
        "    b'ZnJvbSByYW5kb20gaW1wb3J0IHJhbmRpbnQKCiMgUG9pbnQgPSBuYW1lZHR1cGxlKCJQb2ludCIsICJ4IHkiKQoKY2xhc3'\n",
        "    b'MgUG9pbnQoTmFtZWRUdXBsZSk6CiAgICB4OiBpbnQKICAgIHk6IGludAogICAgCnBvaW50cyA9IFtQb2ludChyYW5kaW50'\n",
        "    b'KDEsIDMpLCByYW5kaW50KDEsIDMpKSBmb3IgXyBpbiByYW5nZSgxMDApXQoKbW9zdF9jb21tb24sIGNvdW50ID0gQ291bn'\n",
        "    b'Rlcihwb2ludHMpLm1vc3RfY29tbW9uKDEpWzBdCgpwcmludChmInttb3N0X2NvbW1vbn0gYXBwZWFycyB7Y291bnR9IHRpbWVzIik='\n",
        ")\n",
        "\n",
        "print(ANSWER_3)"
      ]
    },
    {
      "cell_type": "markdown",
      "id": "bdfc2911",
      "metadata": {
        "id": "bdfc2911"
      },
      "source": [
        "## itertools"
      ]
    },
    {
      "cell_type": "markdown",
      "id": "8c985d19-c148-4288-9426-c4660a6275b3",
      "metadata": {
        "id": "8c985d19-c148-4288-9426-c4660a6275b3"
      },
      "source": [
        "This module implements a number of iterator building blocks!"
      ]
    },
    {
      "cell_type": "markdown",
      "id": "26e033a8-51ae-44a1-9067-ac9bfcc3b3c2",
      "metadata": {
        "id": "26e033a8-51ae-44a1-9067-ac9bfcc3b3c2"
      },
      "source": [
        "For more information see documentation: https://docs.python.org/3/library/itertools.html"
      ]
    },
    {
      "cell_type": "code",
      "execution_count": null,
      "id": "9c7c3c2a-28b5-45aa-b142-b629597ded5d",
      "metadata": {
        "id": "9c7c3c2a-28b5-45aa-b142-b629597ded5d"
      },
      "outputs": [],
      "source": [
        "import itertools"
      ]
    },
    {
      "cell_type": "code",
      "execution_count": null,
      "id": "d69c3343-0ee3-4990-a2f7-c40159855607",
      "metadata": {
        "id": "d69c3343-0ee3-4990-a2f7-c40159855607"
      },
      "outputs": [],
      "source": [
        "student_data"
      ]
    },
    {
      "cell_type": "markdown",
      "id": "ff4f9178-b6a0-44f0-a389-e415ce6f1974",
      "metadata": {
        "id": "ff4f9178-b6a0-44f0-a389-e415ce6f1974"
      },
      "source": [
        "### Quick asside -> What is an iterable and what is an iterator and how a for loop works"
      ]
    },
    {
      "cell_type": "markdown",
      "id": "12f2978d-55cb-421d-b2d3-d2adf2a1191b",
      "metadata": {
        "id": "12f2978d-55cb-421d-b2d3-d2adf2a1191b"
      },
      "source": [
        "Iterators\n",
        "\n",
        "An iterator is an object that implements the iterator protocol. In other words, an iterator is an object that implements the following methods:\n",
        "\n",
        "`__iter__` returns the iterator object itself.\n",
        "\n",
        "`__next__` returns the next element.\n",
        "\n",
        "It means that you cannot use the iterator object again.\n",
        "\n",
        "Iterables\n",
        "\n",
        "An iterable is an object that you can iterate over.\n",
        "\n",
        "An object is iterable when it implements the `__iter__` method. And its `__iter__` method returns a new iterator."
      ]
    },
    {
      "cell_type": "code",
      "execution_count": null,
      "id": "af07265c-44d4-4157-8abd-1a808a69b92d",
      "metadata": {
        "id": "af07265c-44d4-4157-8abd-1a808a69b92d"
      },
      "outputs": [],
      "source": [
        "# An iterator implements two very special functions\n",
        "# __iter__ -> Must return an iterable\n",
        "# __next__ -> Steps through the iterator"
      ]
    },
    {
      "cell_type": "code",
      "execution_count": null,
      "id": "38a5f152-fd3a-4b2c-95cd-c8fa16985c16",
      "metadata": {
        "id": "38a5f152-fd3a-4b2c-95cd-c8fa16985c16"
      },
      "outputs": [],
      "source": [
        "student_data"
      ]
    },
    {
      "cell_type": "code",
      "execution_count": null,
      "id": "02af39b3-9d0a-46ee-b128-5f93bc738f9e",
      "metadata": {
        "id": "02af39b3-9d0a-46ee-b128-5f93bc738f9e"
      },
      "outputs": [],
      "source": [
        "student_data.__iter__"
      ]
    },
    {
      "cell_type": "code",
      "execution_count": null,
      "id": "da5a76cc-8f9f-423b-9ad2-0b922ad5e1ed",
      "metadata": {
        "id": "da5a76cc-8f9f-423b-9ad2-0b922ad5e1ed"
      },
      "outputs": [],
      "source": [
        "# What is really going on in this for loop?\n",
        "for item in student_data:\n",
        "    print(item)"
      ]
    },
    {
      "cell_type": "code",
      "execution_count": null,
      "id": "6a92a36d-ea52-4025-8896-f238501fec15",
      "metadata": {
        "id": "6a92a36d-ea52-4025-8896-f238501fec15"
      },
      "outputs": [],
      "source": [
        "student_data"
      ]
    },
    {
      "cell_type": "code",
      "execution_count": null,
      "id": "c2ad34ff-de1e-49a2-bf53-ec40a4de8005",
      "metadata": {
        "id": "c2ad34ff-de1e-49a2-bf53-ec40a4de8005"
      },
      "outputs": [],
      "source": [
        "student_data.__iter__()"
      ]
    },
    {
      "cell_type": "code",
      "execution_count": null,
      "id": "ef8a2972-11f0-43a0-b2e4-6f74cbb5f21e",
      "metadata": {
        "id": "ef8a2972-11f0-43a0-b2e4-6f74cbb5f21e"
      },
      "outputs": [],
      "source": [
        "iter(student_data)"
      ]
    },
    {
      "cell_type": "code",
      "execution_count": null,
      "id": "25f52924-4fa5-415a-a070-5ccadbb75108",
      "metadata": {
        "id": "25f52924-4fa5-415a-a070-5ccadbb75108"
      },
      "outputs": [],
      "source": [
        "student_data_iterator = iter(student_data)"
      ]
    },
    {
      "cell_type": "code",
      "execution_count": null,
      "id": "b9b99c1f-5974-445f-b9ae-9adbbe5dd70c",
      "metadata": {
        "id": "b9b99c1f-5974-445f-b9ae-9adbbe5dd70c"
      },
      "outputs": [],
      "source": [
        "student_data_iterator"
      ]
    },
    {
      "cell_type": "code",
      "execution_count": null,
      "id": "35063c4e-3b48-48d1-94cb-a1c3b2b03ed0",
      "metadata": {
        "id": "35063c4e-3b48-48d1-94cb-a1c3b2b03ed0"
      },
      "outputs": [],
      "source": [
        "student_data_iterator.__next__"
      ]
    },
    {
      "cell_type": "code",
      "execution_count": null,
      "id": "d131eac2-116f-41ef-9d29-77434e5da896",
      "metadata": {
        "id": "d131eac2-116f-41ef-9d29-77434e5da896"
      },
      "outputs": [],
      "source": [
        "# iterator.__next__() or next(iterator)"
      ]
    },
    {
      "cell_type": "code",
      "execution_count": null,
      "id": "9fd4d48e-ba65-4c6b-86ee-d56e744c854b",
      "metadata": {
        "id": "9fd4d48e-ba65-4c6b-86ee-d56e744c854b"
      },
      "outputs": [],
      "source": [
        "next(student_data_iterator)"
      ]
    },
    {
      "cell_type": "code",
      "execution_count": null,
      "id": "0a965d26-1982-45f6-80d2-26f2b4cce2de",
      "metadata": {
        "id": "0a965d26-1982-45f6-80d2-26f2b4cce2de"
      },
      "outputs": [],
      "source": [
        "next(student_data_iterator)"
      ]
    },
    {
      "cell_type": "code",
      "execution_count": null,
      "id": "965fa02e-116f-4e70-b3db-f10c88e0539c",
      "metadata": {
        "id": "965fa02e-116f-4e70-b3db-f10c88e0539c"
      },
      "outputs": [],
      "source": [
        "next(student_data_iterator)"
      ]
    },
    {
      "cell_type": "code",
      "execution_count": null,
      "id": "9012b9e2-b4f5-48d8-84ed-a058ce6c2512",
      "metadata": {
        "id": "9012b9e2-b4f5-48d8-84ed-a058ce6c2512"
      },
      "outputs": [],
      "source": [
        "# This cell will error if uncommented.\n",
        "# next(student_data_iterator)"
      ]
    },
    {
      "cell_type": "code",
      "execution_count": null,
      "id": "26b002ba-8173-44e2-9638-61e37c27ab49",
      "metadata": {
        "id": "26b002ba-8173-44e2-9638-61e37c27ab49"
      },
      "outputs": [],
      "source": [
        "# summary of for loop\n",
        "\n",
        "student_data_iterator = iter(student_data)\n",
        "\n",
        "while True:\n",
        "    try:\n",
        "        item = next(student_data_iterator)\n",
        "        # This is now the same as the for block\n",
        "        print(item)\n",
        "    except StopIteration:\n",
        "        break"
      ]
    },
    {
      "cell_type": "markdown",
      "id": "b25b5ab3-ab88-440b-95b7-f497c9145c2c",
      "metadata": {
        "id": "b25b5ab3-ab88-440b-95b7-f497c9145c2c"
      },
      "source": [
        "### Itertools fun 😃"
      ]
    },
    {
      "cell_type": "markdown",
      "id": "2189c2a6-46c7-4ebb-bfe6-357dfa6b2b90",
      "metadata": {
        "id": "2189c2a6-46c7-4ebb-bfe6-357dfa6b2b90"
      },
      "source": [
        "### Chain"
      ]
    },
    {
      "cell_type": "code",
      "execution_count": null,
      "id": "5bce0ed7-7547-45c7-a313-5b108419a09b",
      "metadata": {
        "id": "5bce0ed7-7547-45c7-a313-5b108419a09b"
      },
      "outputs": [],
      "source": [
        "itertools.chain([1, 2, 3], [4, 5, 6], [7, 8, 9]) # note lazy!"
      ]
    },
    {
      "cell_type": "code",
      "execution_count": null,
      "id": "63692258-4e56-4443-a9f9-2ac566c22c72",
      "metadata": {
        "id": "63692258-4e56-4443-a9f9-2ac566c22c72"
      },
      "outputs": [],
      "source": [
        "for city in itertools.chain([1, 2, 3], [4, 5, 6], [7, 8, 9]):\n",
        "    print(city)"
      ]
    },
    {
      "cell_type": "markdown",
      "id": "3c3828b6-20f3-4ea6-b52a-086b1dc2e69d",
      "metadata": {
        "id": "3c3828b6-20f3-4ea6-b52a-086b1dc2e69d"
      },
      "source": [
        "### Chain from iterable"
      ]
    },
    {
      "cell_type": "code",
      "execution_count": null,
      "id": "407b332f-bb19-43b1-9a73-e63f401c04b7",
      "metadata": {
        "id": "407b332f-bb19-43b1-9a73-e63f401c04b7"
      },
      "outputs": [],
      "source": [
        "# iterable of iterables.\n",
        "\n",
        "for city in itertools.chain.from_iterable([[1, 2, 3], [4, 5, 6], [7, 8, 9]]):\n",
        "    print(city)"
      ]
    },
    {
      "cell_type": "markdown",
      "id": "4e8844e4-1638-439d-bc69-5667a1be657a",
      "metadata": {
        "id": "4e8844e4-1638-439d-bc69-5667a1be657a"
      },
      "source": [
        "### Count"
      ]
    },
    {
      "cell_type": "code",
      "execution_count": null,
      "id": "734af69a-c917-43b1-86ca-6ff2b0b5e5bc",
      "metadata": {
        "id": "734af69a-c917-43b1-86ca-6ff2b0b5e5bc"
      },
      "outputs": [],
      "source": [
        "# Similar to range but when you don't know how many you want.\n",
        "# itertools.count(3) -> 3, 4, 5, 6, ..."
      ]
    },
    {
      "cell_type": "code",
      "execution_count": null,
      "id": "5f6c3b13-34ea-4377-bfad-3191cb8868bc",
      "metadata": {
        "id": "5f6c3b13-34ea-4377-bfad-3191cb8868bc"
      },
      "outputs": [],
      "source": [
        "for n in itertools.count(start=1, step=1):\n",
        "    print(f\"n={n}\")\n",
        "    if n == 5:\n",
        "        break"
      ]
    },
    {
      "cell_type": "code",
      "execution_count": null,
      "id": "ce75ad68-6698-46fd-baa4-b0e0260c432a",
      "metadata": {
        "id": "ce75ad68-6698-46fd-baa4-b0e0260c432a"
      },
      "outputs": [],
      "source": [
        "# less code than this:\n",
        "n = 1\n",
        "while n < 6:\n",
        "    print(f\"n={n}\")\n",
        "    if n == 5:\n",
        "        break\n",
        "    n += 1"
      ]
    },
    {
      "cell_type": "markdown",
      "id": "7313473f-4c68-4502-9d70-81d09fca3c6a",
      "metadata": {
        "id": "7313473f-4c68-4502-9d70-81d09fca3c6a"
      },
      "source": [
        "### Combinations"
      ]
    },
    {
      "cell_type": "code",
      "execution_count": null,
      "id": "9bb54d67-403f-411d-afb6-1672976eba06",
      "metadata": {
        "id": "9bb54d67-403f-411d-afb6-1672976eba06"
      },
      "outputs": [],
      "source": [
        "list(itertools.combinations([1, 2, 3, 4], 2))"
      ]
    },
    {
      "cell_type": "code",
      "execution_count": null,
      "id": "62acfeda-2fc0-4751-ad90-6f55b44d53bd",
      "metadata": {
        "id": "62acfeda-2fc0-4751-ad90-6f55b44d53bd"
      },
      "outputs": [],
      "source": [
        "list(itertools.combinations_with_replacement([1, 2, 3, 4], 2))"
      ]
    },
    {
      "cell_type": "markdown",
      "id": "3b4feb43-4cc6-4802-a086-d5b6ee589f14",
      "metadata": {
        "id": "3b4feb43-4cc6-4802-a086-d5b6ee589f14"
      },
      "source": [
        "###  Cycle"
      ]
    },
    {
      "cell_type": "code",
      "execution_count": null,
      "id": "fec9437c-66be-401b-aca8-de69c3548a54",
      "metadata": {
        "id": "fec9437c-66be-401b-aca8-de69c3548a54"
      },
      "outputs": [],
      "source": [
        "# itertools.cycle(['A', 'B', 'C']) -> 'A', 'B', 'C', 'A', 'B', 'C', ..."
      ]
    },
    {
      "cell_type": "code",
      "execution_count": null,
      "id": "897163e3-a3aa-4496-aeec-13a34317fd2b",
      "metadata": {
        "id": "897163e3-a3aa-4496-aeec-13a34317fd2b"
      },
      "outputs": [],
      "source": [
        "import random"
      ]
    },
    {
      "cell_type": "code",
      "execution_count": null,
      "id": "9b6163fc-957a-4c14-9a46-d80d2bb1af49",
      "metadata": {
        "id": "9b6163fc-957a-4c14-9a46-d80d2bb1af49"
      },
      "outputs": [],
      "source": [
        "def player_move(player):\n",
        "    if random.randint(1, 4) == 1:\n",
        "        print(f\"Player {player} moved and won!\")\n",
        "        return True\n",
        "    else:\n",
        "        print(f\"Player {player} moved\")\n",
        "        return False"
      ]
    },
    {
      "cell_type": "code",
      "execution_count": null,
      "id": "8d41f4ac-3b59-472f-9729-cccd5bf12aa1",
      "metadata": {
        "id": "8d41f4ac-3b59-472f-9729-cccd5bf12aa1"
      },
      "outputs": [],
      "source": [
        "for player in itertools.cycle([\"A\", \"B\"]):\n",
        "    if player_move(player):\n",
        "        break"
      ]
    },
    {
      "cell_type": "markdown",
      "id": "40b24b86-07d6-49db-a26e-e24f70c8a796",
      "metadata": {
        "id": "40b24b86-07d6-49db-a26e-e24f70c8a796"
      },
      "source": [
        "### Groupby"
      ]
    },
    {
      "cell_type": "code",
      "execution_count": null,
      "id": "a9ec4ede-21c7-455e-89ad-4cae11c39d21",
      "metadata": {
        "id": "a9ec4ede-21c7-455e-89ad-4cae11c39d21"
      },
      "outputs": [],
      "source": [
        "list(itertools.groupby('MISSISSIPPI'))"
      ]
    },
    {
      "cell_type": "code",
      "execution_count": null,
      "id": "500a9877-c56a-483e-b64b-408e7d66ce11",
      "metadata": {
        "id": "500a9877-c56a-483e-b64b-408e7d66ce11"
      },
      "outputs": [],
      "source": [
        "for key, group in itertools.groupby('MISSISSIPPI'):\n",
        "    print(f'A group of {key} with {list(group)}')"
      ]
    },
    {
      "cell_type": "markdown",
      "id": "9a668c7e-bbf8-443c-a321-37da655e6aa9",
      "metadata": {
        "id": "9a668c7e-bbf8-443c-a321-37da655e6aa9"
      },
      "source": [
        "### islice"
      ]
    },
    {
      "cell_type": "code",
      "execution_count": null,
      "id": "54bdccde-15ca-4d93-a0a0-520312a7f749",
      "metadata": {
        "id": "54bdccde-15ca-4d93-a0a0-520312a7f749"
      },
      "outputs": [],
      "source": [
        "list(itertools.islice([1, 2, 3, 4, 5], 1, None, 2))"
      ]
    },
    {
      "cell_type": "code",
      "execution_count": null,
      "id": "fe52435c-3afc-4b7e-a1b7-db9dca5d2a21",
      "metadata": {
        "id": "fe52435c-3afc-4b7e-a1b7-db9dca5d2a21"
      },
      "outputs": [],
      "source": [
        "long_list = list(range(1_000_000))"
      ]
    },
    {
      "cell_type": "code",
      "execution_count": null,
      "id": "345f51f0-5d65-476e-a344-5a97a898ca4d",
      "metadata": {
        "id": "345f51f0-5d65-476e-a344-5a97a898ca4d"
      },
      "outputs": [],
      "source": [
        "import sys\n",
        "\n",
        "def convert_bytes(size):\n",
        "    for x in ['bytes', 'KB', 'MB', 'GB', 'TB']:\n",
        "        if size < 1024.0:\n",
        "            return \"%3.1f %s\" % (size, x)\n",
        "        size /= 1024.0\n",
        "\n",
        "    return size"
      ]
    },
    {
      "cell_type": "code",
      "execution_count": null,
      "id": "14021e3b-1443-41d1-ad16-6310de41fc30",
      "metadata": {
        "id": "14021e3b-1443-41d1-ad16-6310de41fc30"
      },
      "outputs": [],
      "source": [
        "convert_bytes(sys.getsizeof(long_list))"
      ]
    },
    {
      "cell_type": "code",
      "execution_count": null,
      "id": "d4c29648-5a07-427c-acbc-a1dc4c1cc687",
      "metadata": {
        "id": "d4c29648-5a07-427c-acbc-a1dc4c1cc687"
      },
      "outputs": [],
      "source": [
        "convert_bytes(sys.getsizeof(long_list[::2]))"
      ]
    },
    {
      "cell_type": "code",
      "execution_count": null,
      "id": "74149b33-6130-4271-ab38-4661a9c0f535",
      "metadata": {
        "id": "74149b33-6130-4271-ab38-4661a9c0f535"
      },
      "outputs": [],
      "source": [
        "# Doesn't create a new object in memory.\n",
        "convert_bytes(sys.getsizeof(itertools.islice(long_list, 1, None, 2)))"
      ]
    },
    {
      "cell_type": "markdown",
      "id": "88b1e706-894e-4119-8d8f-1f49002d6410",
      "metadata": {
        "id": "88b1e706-894e-4119-8d8f-1f49002d6410"
      },
      "source": [
        "### Permutations"
      ]
    },
    {
      "cell_type": "code",
      "execution_count": null,
      "id": "3d3a27cf-a13a-4570-8763-2a176ee306d9",
      "metadata": {
        "id": "3d3a27cf-a13a-4570-8763-2a176ee306d9"
      },
      "outputs": [],
      "source": [
        "# Order is important in permutations. Remember in permutations order matters\n",
        "list(itertools.permutations([1, 2, 3], r=2))"
      ]
    },
    {
      "cell_type": "markdown",
      "id": "3e61a3ad-5b7b-4695-9a6a-a4966fd30fbd",
      "metadata": {
        "id": "3e61a3ad-5b7b-4695-9a6a-a4966fd30fbd"
      },
      "source": [
        "### product"
      ]
    },
    {
      "cell_type": "code",
      "execution_count": null,
      "id": "e11d8a6c-4ff4-47bc-bc91-778c4adf7b23",
      "metadata": {
        "id": "e11d8a6c-4ff4-47bc-bc91-778c4adf7b23"
      },
      "outputs": [],
      "source": [
        "list(itertools.product([1, 2, 3], [4, 5]))"
      ]
    },
    {
      "cell_type": "code",
      "execution_count": null,
      "id": "415c6957-f8b1-4057-8bfd-0ac1d2d6ae51",
      "metadata": {
        "id": "415c6957-f8b1-4057-8bfd-0ac1d2d6ae51"
      },
      "outputs": [],
      "source": [
        "# Can also use repeat arg which is useful.\n",
        "\n",
        "list(itertools.product([1, 2, 3], repeat=2))"
      ]
    },
    {
      "cell_type": "markdown",
      "id": "7a443af3-7286-4401-86aa-f34182f6a8b1",
      "metadata": {
        "id": "7a443af3-7286-4401-86aa-f34182f6a8b1"
      },
      "source": [
        "### Zip Longest"
      ]
    },
    {
      "cell_type": "code",
      "execution_count": null,
      "id": "742549ef-adde-4f17-abe4-970b70775874",
      "metadata": {
        "id": "742549ef-adde-4f17-abe4-970b70775874"
      },
      "outputs": [],
      "source": [
        "# Note we lost Brighton and Leeds.\n",
        "list(zip([1, 2], ['a', 'b', 'c']))"
      ]
    },
    {
      "cell_type": "code",
      "execution_count": null,
      "id": "b60e6130-289a-4372-8c1b-7cdcba232f75",
      "metadata": {
        "id": "b60e6130-289a-4372-8c1b-7cdcba232f75"
      },
      "outputs": [],
      "source": [
        "list(itertools.zip_longest([1, 2], ['a', 'b', 'c']))"
      ]
    },
    {
      "cell_type": "code",
      "execution_count": null,
      "id": "d89b6f55-2698-40be-bc27-d6d670d5d0ce",
      "metadata": {
        "id": "d89b6f55-2698-40be-bc27-d6d670d5d0ce"
      },
      "outputs": [],
      "source": [
        "# Also you might want an error (the below code will error if uncommented)\n",
        "\n",
        "# list(zip([1, 2], ['a', 'b', 'c'], strict=True))"
      ]
    },
    {
      "cell_type": "code",
      "execution_count": null,
      "id": "5b9c5c63-b28a-474b-85b5-013a8226e4e1",
      "metadata": {
        "id": "5b9c5c63-b28a-474b-85b5-013a8226e4e1"
      },
      "outputs": [],
      "source": [
        "# Challenge 4\n",
        "\n",
        "#  how many times does the each number appear in the multiples of 3 less than 1000?\n",
        "\n",
        "..."
      ]
    },
    {
      "cell_type": "code",
      "execution_count": null,
      "id": "6da251b1-6844-4665-bf72-db09ca42b0ff",
      "metadata": {
        "id": "6da251b1-6844-4665-bf72-db09ca42b0ff"
      },
      "outputs": [],
      "source": [
        "ANSWER_4 = un_scramble(\n",
        "    b'dGhyZWVfdGltZXNfdGFibGUgPSAoc3RyKG51bWJlcikgZm9yIG51bWJlciBpbiBpdGVydG9vbHMuaXNsaWNlKHJhbm'\n",
        "    b'dlKDEwMDApLCAzLCBOb25lLCAzKSkKQ291bnRlcihpdGVydG9vbHMuY2hhaW4uZnJvbV9pdGVyYWJsZSh0aHJlZV90aW1lc190YWJsZSkp'\n",
        ")\n",
        "\n",
        "print(ANSWER_4)"
      ]
    },
    {
      "cell_type": "markdown",
      "id": "4b36a345",
      "metadata": {
        "id": "4b36a345"
      },
      "source": [
        "## functools"
      ]
    },
    {
      "cell_type": "markdown",
      "id": "9668a792-1315-4959-bfc3-9ae8b0ec24ea",
      "metadata": {
        "id": "9668a792-1315-4959-bfc3-9ae8b0ec24ea"
      },
      "source": [
        "The functools module is for higher-order functions: functions that act on or return other functions. In general, any callable object can be treated as a function for the purposes of this module.\n",
        "\n",
        "For more information see the documentation: https://docs.python.org/3/library/functools.html"
      ]
    },
    {
      "cell_type": "code",
      "execution_count": null,
      "id": "9b5d49b2-a23e-4125-9ee3-d66baab9795f",
      "metadata": {
        "id": "9b5d49b2-a23e-4125-9ee3-d66baab9795f"
      },
      "outputs": [],
      "source": [
        "import functools"
      ]
    },
    {
      "cell_type": "markdown",
      "id": "69a5b937-f003-4975-8994-0742c2960a74",
      "metadata": {
        "id": "69a5b937-f003-4975-8994-0742c2960a74"
      },
      "source": [
        "### lru_cache, cache"
      ]
    },
    {
      "cell_type": "markdown",
      "id": "e0ca97ef-d435-4ee0-9b3d-81ba2195c842",
      "metadata": {
        "id": "e0ca97ef-d435-4ee0-9b3d-81ba2195c842"
      },
      "source": [
        "Last recent cache - is a decorator to wrap a function with a memoizing callable that saves up to the maxsize most recent calls."
      ]
    },
    {
      "cell_type": "code",
      "execution_count": null,
      "id": "ed5526d1-de0c-413d-93b4-4c577b1628ab",
      "metadata": {
        "id": "ed5526d1-de0c-413d-93b4-4c577b1628ab"
      },
      "outputs": [],
      "source": [
        "def factorial(n):\n",
        "    return n * factorial(n-1) if n else 1"
      ]
    },
    {
      "cell_type": "code",
      "execution_count": null,
      "id": "427bc236-0bae-4779-ba60-965ace2144ec",
      "metadata": {
        "id": "427bc236-0bae-4779-ba60-965ace2144ec"
      },
      "outputs": [],
      "source": [
        "@functools.lru_cache(maxsize=None)\n",
        "def fast_factorial(n):\n",
        "    return n * factorial(n-1) if n else 1\n"
      ]
    },
    {
      "cell_type": "code",
      "execution_count": null,
      "id": "c58aeb16-5333-4d46-bb19-d100476040f9",
      "metadata": {
        "id": "c58aeb16-5333-4d46-bb19-d100476040f9"
      },
      "outputs": [],
      "source": [
        "%timeit factorial(200)"
      ]
    },
    {
      "cell_type": "code",
      "execution_count": null,
      "id": "d6cbd83b-64f5-484d-87ea-6900e5ee7eb3",
      "metadata": {
        "id": "d6cbd83b-64f5-484d-87ea-6900e5ee7eb3"
      },
      "outputs": [],
      "source": [
        "%timeit fast_factorial(200)"
      ]
    },
    {
      "cell_type": "code",
      "execution_count": null,
      "id": "e29c952e-e11c-4881-b42d-c51c4658256c",
      "metadata": {
        "id": "e29c952e-e11c-4881-b42d-c51c4658256c"
      },
      "outputs": [],
      "source": [
        "# Added in python 3.9 a simple cache - no maxsize!\n",
        "\n",
        "# @functools.cache\n",
        "# def fast_factorial(n):\n",
        "#     return n * factorial(n-1) if n else 1"
      ]
    },
    {
      "cell_type": "markdown",
      "id": "fef93f47-51c4-4bc7-aa9b-291ea109d5fe",
      "metadata": {
        "id": "fef93f47-51c4-4bc7-aa9b-291ea109d5fe"
      },
      "source": [
        "### total ordering"
      ]
    },
    {
      "cell_type": "code",
      "execution_count": null,
      "id": "1c8eba40-82d3-436a-9bd2-5c68b2dc427e",
      "metadata": {
        "id": "1c8eba40-82d3-436a-9bd2-5c68b2dc427e"
      },
      "outputs": [],
      "source": [
        "class Student:\n",
        "\n",
        "    def __init__(self, name:str, age:int,test_scores:List[int], on_vacation: bool=False):\n",
        "        self.name = name\n",
        "        self.age = age\n",
        "        self.test_scores = test_scores\n",
        "        self.on_vacation = on_vacation\n",
        "\n",
        "    def __repr__(self):\n",
        "        return f'Student(name={self.name})'\n",
        "\n",
        "    @property\n",
        "    def mean_test_score(self):\n",
        "        return sum(x for x in self.test_scores) / len(self.test_scores)"
      ]
    },
    {
      "cell_type": "code",
      "execution_count": null,
      "id": "b9c654bf-da28-4d3b-b816-58615a4c91d6",
      "metadata": {
        "id": "b9c654bf-da28-4d3b-b816-58615a4c91d6"
      },
      "outputs": [],
      "source": [
        "john = Student(**student_data[0])\n",
        "newton = Student(**student_data[2])\n",
        "\n",
        "john, newton"
      ]
    },
    {
      "cell_type": "code",
      "execution_count": null,
      "id": "ad2a5cda-88c2-4b64-aa1e-be63a554f187",
      "metadata": {
        "id": "ad2a5cda-88c2-4b64-aa1e-be63a554f187"
      },
      "outputs": [],
      "source": [
        "# this code will error if uncommented\n",
        "\n",
        "# john < newton"
      ]
    },
    {
      "cell_type": "code",
      "execution_count": null,
      "id": "865dbe34-6bb2-4a23-9622-0b90f2fa38b2",
      "metadata": {
        "id": "865dbe34-6bb2-4a23-9622-0b90f2fa38b2"
      },
      "outputs": [],
      "source": [
        "class Student:\n",
        "\n",
        "    def __init__(self, name:str, age:int,test_scores:List[int], on_vacation: bool=False):\n",
        "        self.name = name\n",
        "        self.age = age\n",
        "        self.test_scores = test_scores\n",
        "        self.on_vacation = on_vacation\n",
        "\n",
        "    def __repr__(self):\n",
        "        return f'Student(name={self.name})'\n",
        "\n",
        "    @property\n",
        "    def mean_test_score(self):\n",
        "        return sum(x for x in self.test_scores) / len(self.test_scores)\n",
        "\n",
        "    # add all these special methods.\n",
        "\n",
        "    def __lt__(self, other: Student):\n",
        "        return self.mean_test_score < other.mean_test_score\n",
        "\n",
        "    def __le__(self, other: Student):\n",
        "        return self.mean_test_score <= other.mean_test_score\n",
        "\n",
        "    def __gt__(self, other: Student):\n",
        "        return self.mean_test_score > other.mean_test_score\n",
        "\n",
        "    def __ge__(self, other: Student):\n",
        "        return self.mean_test_score >= other.mean_test_score\n",
        "\n",
        "    def __eq__(self, other: Student):\n",
        "        return self.mean_test_score == other.mean_test_score"
      ]
    },
    {
      "cell_type": "code",
      "execution_count": null,
      "id": "0e78889c-1ca6-4e99-92a7-8c2e723e891c",
      "metadata": {
        "id": "0e78889c-1ca6-4e99-92a7-8c2e723e891c"
      },
      "outputs": [],
      "source": [
        "john = Student(**student_data[0])\n",
        "newton = Student(**student_data[2])\n",
        "\n",
        "john, newton"
      ]
    },
    {
      "cell_type": "code",
      "execution_count": null,
      "id": "52d2d243-86b3-42c0-8e34-056407275759",
      "metadata": {
        "id": "52d2d243-86b3-42c0-8e34-056407275759"
      },
      "outputs": [],
      "source": [
        "john > newton"
      ]
    },
    {
      "cell_type": "code",
      "execution_count": null,
      "id": "787a7640-c0f7-436b-b769-b2733e5f5794",
      "metadata": {
        "id": "787a7640-c0f7-436b-b769-b2733e5f5794"
      },
      "outputs": [],
      "source": [
        "# Same as\n",
        "john.__gt__(newton)"
      ]
    },
    {
      "cell_type": "code",
      "execution_count": null,
      "id": "bda5b0b0-3cdb-4204-b191-18865be508d4",
      "metadata": {
        "id": "bda5b0b0-3cdb-4204-b191-18865be508d4"
      },
      "outputs": [],
      "source": [
        "@functools.total_ordering\n",
        "class Student:\n",
        "\n",
        "    def __init__(self, name:str, age:int,test_scores:List[int], on_vacation: bool=False):\n",
        "        self.name = name\n",
        "        self.age = age\n",
        "        self.test_scores = test_scores\n",
        "        self.on_vacation = on_vacation\n",
        "\n",
        "    def __repr__(self):\n",
        "        return f'Student(name={self.name})'\n",
        "\n",
        "    @property\n",
        "    def mean_test_score(self):\n",
        "        return sum(x for x in self.test_scores) / len(self.test_scores)\n",
        "\n",
        "    # add all these special methods.\n",
        "\n",
        "    def __lt__(self, other: Student):\n",
        "        return self.mean_test_score < other.mean_test_score\n",
        "\n",
        "    def __eq__(self, other: Student):\n",
        "        return self.mean_test_score == other.mean_test_score"
      ]
    },
    {
      "cell_type": "code",
      "execution_count": null,
      "id": "79873261-c0e4-4f00-9db4-1e2d7c77b4fa",
      "metadata": {
        "id": "79873261-c0e4-4f00-9db4-1e2d7c77b4fa"
      },
      "outputs": [],
      "source": [
        "# Because Greater than is the same as not less than and not equal."
      ]
    },
    {
      "cell_type": "code",
      "execution_count": null,
      "id": "f630d7f0-e055-417c-b931-f94d92f1e8b5",
      "metadata": {
        "id": "f630d7f0-e055-417c-b931-f94d92f1e8b5"
      },
      "outputs": [],
      "source": [
        "# Student.__gt__??"
      ]
    },
    {
      "cell_type": "markdown",
      "id": "84c64c51-0581-4f77-ba15-06cb67cf180d",
      "metadata": {
        "id": "84c64c51-0581-4f77-ba15-06cb67cf180d"
      },
      "source": [
        "### partial"
      ]
    },
    {
      "cell_type": "code",
      "execution_count": null,
      "id": "cfaa594f-dc0d-494b-bf59-76353ab3afd9",
      "metadata": {
        "id": "cfaa594f-dc0d-494b-bf59-76353ab3afd9"
      },
      "outputs": [],
      "source": [
        "def is_pass(student: Student, pass_mark = 60):\n",
        "    passed = student.mean_test_score > pass_mark\n",
        "    print((f'{student.name} has test score '\n",
        "          f\"{'above' if passed else 'below'} {pass_mark}\"))\n",
        "    return passed"
      ]
    },
    {
      "cell_type": "code",
      "execution_count": null,
      "id": "ca8630ec-412c-4ef2-a2f6-e4a3936a07c7",
      "metadata": {
        "id": "ca8630ec-412c-4ef2-a2f6-e4a3936a07c7"
      },
      "outputs": [],
      "source": [
        "is_pass(john)"
      ]
    },
    {
      "cell_type": "code",
      "execution_count": null,
      "id": "d1dfaf03-50e3-4cda-bf19-686f9a75940e",
      "metadata": {
        "id": "d1dfaf03-50e3-4cda-bf19-686f9a75940e"
      },
      "outputs": [],
      "source": [
        "is_pass(newton)"
      ]
    },
    {
      "cell_type": "code",
      "execution_count": null,
      "id": "c283c70d-57a0-4efa-b519-bbbcf7e6b585",
      "metadata": {
        "id": "c283c70d-57a0-4efa-b519-bbbcf7e6b585"
      },
      "outputs": [],
      "source": [
        "def is_top_set(student: Student):\n",
        "    return is_pass(student, 30)"
      ]
    },
    {
      "cell_type": "code",
      "execution_count": null,
      "id": "02c3cd2b-14d1-45f1-a6ae-e717d9e75e0e",
      "metadata": {
        "id": "02c3cd2b-14d1-45f1-a6ae-e717d9e75e0e"
      },
      "outputs": [],
      "source": [
        "is_top_set(newton)"
      ]
    },
    {
      "cell_type": "code",
      "execution_count": null,
      "id": "300a14d3-c9a0-4493-bbe1-2d77857cb928",
      "metadata": {
        "id": "300a14d3-c9a0-4493-bbe1-2d77857cb928"
      },
      "outputs": [],
      "source": [
        "is_top_set = functools.partial(is_pass, pass_mark=80)"
      ]
    },
    {
      "cell_type": "code",
      "execution_count": null,
      "id": "b69ff1b9-ff4a-43d3-89bf-6071c6b941fb",
      "metadata": {
        "id": "b69ff1b9-ff4a-43d3-89bf-6071c6b941fb"
      },
      "outputs": [],
      "source": [
        "is_top_set(newton)"
      ]
    },
    {
      "cell_type": "code",
      "execution_count": null,
      "id": "196a80d7-2424-4b9b-be8f-c4affd24f104",
      "metadata": {
        "id": "196a80d7-2424-4b9b-be8f-c4affd24f104"
      },
      "outputs": [],
      "source": [
        "# another example:"
      ]
    },
    {
      "cell_type": "code",
      "execution_count": null,
      "id": "defd08e7-ba86-4ac5-90bc-3a0a017f7231",
      "metadata": {
        "id": "defd08e7-ba86-4ac5-90bc-3a0a017f7231"
      },
      "outputs": [],
      "source": [
        "from statistics import median"
      ]
    },
    {
      "cell_type": "code",
      "execution_count": null,
      "id": "94767acc-ba33-4e57-a52a-004053983465",
      "metadata": {
        "id": "94767acc-ba33-4e57-a52a-004053983465"
      },
      "outputs": [],
      "source": [
        "min([(1, 2), (5, 1), (2, 3)])"
      ]
    },
    {
      "cell_type": "code",
      "execution_count": null,
      "id": "9cac0734-4d8b-4515-9383-ad8ee424d28d",
      "metadata": {
        "id": "9cac0734-4d8b-4515-9383-ad8ee424d28d"
      },
      "outputs": [],
      "source": [
        "min([(1, 2), (5, 1), (2, 3)], key=lambda item: item[1])"
      ]
    },
    {
      "cell_type": "code",
      "execution_count": null,
      "id": "704a006e-f5f9-45f8-a7e1-c4da55448996",
      "metadata": {
        "id": "704a006e-f5f9-45f8-a7e1-c4da55448996"
      },
      "outputs": [],
      "source": [
        "min_student = functools.partial(min, key=lambda student : median(student.test_scores))"
      ]
    },
    {
      "cell_type": "code",
      "execution_count": null,
      "id": "1c71ceb9-6bce-4492-a7d3-7d7c8e707a89",
      "metadata": {
        "id": "1c71ceb9-6bce-4492-a7d3-7d7c8e707a89"
      },
      "outputs": [],
      "source": [
        "min_student(students)"
      ]
    },
    {
      "cell_type": "code",
      "execution_count": null,
      "id": "cc00b20e-406d-435d-8178-9a4fc29a0d86",
      "metadata": {
        "id": "cc00b20e-406d-435d-8178-9a4fc29a0d86"
      },
      "outputs": [],
      "source": [
        "# Challenge 5\n",
        "\n",
        "# create a function called student_pairs to find all comninations of 2 students\n",
        "\n",
        "student_pairs = ..."
      ]
    },
    {
      "cell_type": "code",
      "execution_count": null,
      "id": "12d138c5-0b3a-4c90-a57d-795ccf64b2f8",
      "metadata": {
        "id": "12d138c5-0b3a-4c90-a57d-795ccf64b2f8"
      },
      "outputs": [],
      "source": [
        "ANSWER_5 = un_scramble(\n",
        "    b'c3R1ZGVudF9wYWlycyA9IGZ1bmN0b29scy5wYXJ0aWFsKGl0ZXJ0b29scy5jb21iaW5hdGlvbnMsIHI9MikKCmZvciBzdHVkZW50X2EsIHN0dW'\n",
        "    b'RlbnRfYiBpbiBzdHVkZW50X3BhaXJzKHN0dWRlbnRzKToKICAgIHByaW50KChzdHVkZW50X2EubmFtZSwgc3R1ZGVudF9iLm5hbWUpKQ=='\n",
        ")\n",
        "\n",
        "print(ANSWER_5)"
      ]
    },
    {
      "cell_type": "markdown",
      "id": "e2a66ea9-79a0-4900-8d39-38498e0deb82",
      "metadata": {
        "id": "e2a66ea9-79a0-4900-8d39-38498e0deb82"
      },
      "source": [
        "# Fin"
      ]
    }
  ],
  "metadata": {
    "interpreter": {
      "hash": "b460384b52104c1e5b9cf54bee46a255d22b2bef338f75ac4ad5d48196028d3c"
    },
    "kernelspec": {
      "display_name": "Python 3 (ipykernel)",
      "language": "python",
      "name": "python3"
    },
    "language_info": {
      "codemirror_mode": {
        "name": "ipython",
        "version": 3
      },
      "file_extension": ".py",
      "mimetype": "text/x-python",
      "name": "python",
      "nbconvert_exporter": "python",
      "pygments_lexer": "ipython3",
      "version": "3.10.4"
    },
    "toc": {
      "base_numbering": 1,
      "nav_menu": {},
      "number_sections": true,
      "sideBar": true,
      "skip_h1_title": false,
      "title_cell": "Table of Contents",
      "title_sidebar": "Contents",
      "toc_cell": false,
      "toc_position": {},
      "toc_section_display": true,
      "toc_window_display": false
    },
    "toc-autonumbering": false,
    "colab": {
      "provenance": [],
      "include_colab_link": true
    }
  },
  "nbformat": 4,
  "nbformat_minor": 5
}